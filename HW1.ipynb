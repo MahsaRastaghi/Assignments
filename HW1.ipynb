{
 "cells": [
  {
   "cell_type": "markdown",
   "id": "7a18ebbd",
   "metadata": {},
   "source": [
    "# Q1:"
   ]
  },
  {
   "cell_type": "code",
   "execution_count": 3,
   "id": "add78715",
   "metadata": {},
   "outputs": [
    {
     "name": "stdout",
     "output_type": "stream",
     "text": [
      "6\n"
     ]
    }
   ],
   "source": [
    "my_list = [1,2,3]\n",
    "sum = 0 \n",
    "for i in my_list:\n",
    "    sum+= i\n",
    "print(sum)"
   ]
  },
  {
   "cell_type": "markdown",
   "id": "9eb119fb",
   "metadata": {},
   "source": [
    "# Q2:"
   ]
  },
  {
   "cell_type": "code",
   "execution_count": 1,
   "id": "e2865a52",
   "metadata": {},
   "outputs": [
    {
     "name": "stdout",
     "output_type": "stream",
     "text": [
      "True\n"
     ]
    }
   ],
   "source": [
    "dict1={'name': 'mahsa'}\n",
    "key = 'name'\n",
    "def check_key(dict1,key):\n",
    "    if key in dict1:\n",
    "        return True\n",
    "    else:\n",
    "        return False\n",
    "result = check_key(dict1,key)\n",
    "print(result)"
   ]
  },
  {
   "cell_type": "markdown",
   "id": "c606ef35",
   "metadata": {},
   "source": [
    "# Q3:"
   ]
  },
  {
   "cell_type": "code",
   "execution_count": 6,
   "id": "8840700c",
   "metadata": {},
   "outputs": [
    {
     "data": {
      "text/plain": [
       "'ashaM'"
      ]
     },
     "execution_count": 6,
     "metadata": {},
     "output_type": "execute_result"
    }
   ],
   "source": [
    "def reverse_string(input_string):\n",
    "    return input_string[::-1]\n",
    "\n",
    "input_string = \"Mahsa\"\n",
    "output_string = reverse_string(input_string)\n",
    "output_string"
   ]
  },
  {
   "cell_type": "code",
   "execution_count": null,
   "id": "cb15dad8",
   "metadata": {},
   "outputs": [],
   "source": []
  }
 ],
 "metadata": {
  "kernelspec": {
   "display_name": "Python 3 (ipykernel)",
   "language": "python",
   "name": "python3"
  },
  "language_info": {
   "codemirror_mode": {
    "name": "ipython",
    "version": 3
   },
   "file_extension": ".py",
   "mimetype": "text/x-python",
   "name": "python",
   "nbconvert_exporter": "python",
   "pygments_lexer": "ipython3",
   "version": "3.11.5"
  }
 },
 "nbformat": 4,
 "nbformat_minor": 5
}
