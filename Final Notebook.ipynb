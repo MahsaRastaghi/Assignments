{
 "cells": [
  {
   "cell_type": "markdown",
   "id": "c775b7af",
   "metadata": {},
   "source": [
    "#  **$\\color{purple}{\\text{Session 1 and 2}}$**"
   ]
  },
  {
   "cell_type": "code",
   "execution_count": 4,
   "id": "6037eb20",
   "metadata": {},
   "outputs": [
    {
     "name": "stdout",
     "output_type": "stream",
     "text": [
      "2\n"
     ]
    }
   ],
   "source": [
    "a = 2\n",
    "b = 1\n",
    "d = a or b\n",
    "print(d)"
   ]
  },
  {
   "cell_type": "code",
   "execution_count": 5,
   "id": "c81c59ce",
   "metadata": {},
   "outputs": [
    {
     "name": "stdout",
     "output_type": "stream",
     "text": [
      "1\n"
     ]
    }
   ],
   "source": [
    "a = 2\n",
    "b = 1\n",
    "d = a and b\n",
    "print(d)"
   ]
  },
  {
   "cell_type": "code",
   "execution_count": 6,
   "id": "0b0edd46",
   "metadata": {},
   "outputs": [
    {
     "data": {
      "text/plain": [
       "1"
      ]
     },
     "execution_count": 6,
     "metadata": {},
     "output_type": "execute_result"
    }
   ],
   "source": [
    "a and b"
   ]
  },
  {
   "cell_type": "code",
   "execution_count": 7,
   "id": "45f17cd7",
   "metadata": {},
   "outputs": [
    {
     "data": {
      "text/plain": [
       "2"
      ]
     },
     "execution_count": 7,
     "metadata": {},
     "output_type": "execute_result"
    }
   ],
   "source": [
    "a or b"
   ]
  },
  {
   "cell_type": "code",
   "execution_count": 8,
   "id": "392ed668",
   "metadata": {},
   "outputs": [
    {
     "name": "stdout",
     "output_type": "stream",
     "text": [
      "False\n"
     ]
    }
   ],
   "source": [
    "a = True\n",
    "b =False\n",
    "d = a and b\n",
    "print(d)"
   ]
  },
  {
   "cell_type": "code",
   "execution_count": 9,
   "id": "9eed2b7f",
   "metadata": {},
   "outputs": [
    {
     "name": "stdout",
     "output_type": "stream",
     "text": [
      "False\n"
     ]
    }
   ],
   "source": [
    "a = False\n",
    "b = True\n",
    "d = a and b\n",
    "print(d)"
   ]
  },
  {
   "cell_type": "code",
   "execution_count": 10,
   "id": "b1d5a98b",
   "metadata": {},
   "outputs": [
    {
     "name": "stdout",
     "output_type": "stream",
     "text": [
      "0\n"
     ]
    }
   ],
   "source": [
    "a = 1\n",
    "b = 0\n",
    "d = a and b\n",
    "print(d)"
   ]
  },
  {
   "cell_type": "code",
   "execution_count": 11,
   "id": "6ce574b1",
   "metadata": {},
   "outputs": [
    {
     "name": "stdout",
     "output_type": "stream",
     "text": [
      "0\n"
     ]
    }
   ],
   "source": [
    "a = 1\n",
    "b = 0\n",
    "d = a and b\n",
    "print(d)"
   ]
  },
  {
   "cell_type": "markdown",
   "id": "773d94d6",
   "metadata": {},
   "source": [
    "#  $\\color{purple}{\\text{Session 3}}$"
   ]
  },
  {
   "cell_type": "markdown",
   "id": "0b9d6042",
   "metadata": {},
   "source": [
    "## Variable name\n",
    "\n",
    "- camelCase\n",
    "- snake_case\n"
   ]
  },
  {
   "cell_type": "code",
   "execution_count": 12,
   "id": "b017e60e",
   "metadata": {},
   "outputs": [],
   "source": [
    "nomreMahsa = 12\n",
    "nomre_mahsa = 10"
   ]
  },
  {
   "cell_type": "markdown",
   "id": "61facac3",
   "metadata": {},
   "source": [
    "## Strings"
   ]
  },
  {
   "cell_type": "code",
   "execution_count": 13,
   "id": "c94fd9ab",
   "metadata": {},
   "outputs": [
    {
     "name": "stdout",
     "output_type": "stream",
     "text": [
      "Mahsa\n"
     ]
    }
   ],
   "source": [
    "my_name = \"Mahsa\"\n",
    "\n",
    "print(my_name)"
   ]
  },
  {
   "cell_type": "markdown",
   "id": "93197c48",
   "metadata": {},
   "source": [
    "### string length"
   ]
  },
  {
   "cell_type": "code",
   "execution_count": 14,
   "id": "0a623751",
   "metadata": {},
   "outputs": [
    {
     "data": {
      "text/plain": [
       "5"
      ]
     },
     "execution_count": 14,
     "metadata": {},
     "output_type": "execute_result"
    }
   ],
   "source": [
    "len(my_name)"
   ]
  },
  {
   "cell_type": "markdown",
   "id": "5240591d",
   "metadata": {},
   "source": [
    "### string index"
   ]
  },
  {
   "cell_type": "code",
   "execution_count": 15,
   "id": "fafcf5c8",
   "metadata": {},
   "outputs": [
    {
     "name": "stdout",
     "output_type": "stream",
     "text": [
      "M\n",
      "a\n"
     ]
    }
   ],
   "source": [
    "print(my_name[0])\n",
    "print(my_name[1])"
   ]
  },
  {
   "cell_type": "code",
   "execution_count": 16,
   "id": "47b70c9a",
   "metadata": {},
   "outputs": [
    {
     "data": {
      "text/plain": [
       "'M'"
      ]
     },
     "execution_count": 16,
     "metadata": {},
     "output_type": "execute_result"
    }
   ],
   "source": [
    "my_name[1]\n",
    "my_name[0]"
   ]
  },
  {
   "cell_type": "code",
   "execution_count": 17,
   "id": "a9c382bc",
   "metadata": {},
   "outputs": [
    {
     "name": "stdout",
     "output_type": "stream",
     "text": [
      "a\n"
     ]
    }
   ],
   "source": [
    "print(my_name[-1])"
   ]
  },
  {
   "cell_type": "code",
   "execution_count": 18,
   "id": "2587441c",
   "metadata": {},
   "outputs": [
    {
     "data": {
      "text/plain": [
       "'a'"
      ]
     },
     "execution_count": 18,
     "metadata": {},
     "output_type": "execute_result"
    }
   ],
   "source": [
    "my_name[len(my_name)-1]"
   ]
  },
  {
   "cell_type": "code",
   "execution_count": 19,
   "id": "2073e0bb",
   "metadata": {},
   "outputs": [
    {
     "data": {
      "text/plain": [
       "'ahsa'"
      ]
     },
     "execution_count": 19,
     "metadata": {},
     "output_type": "execute_result"
    }
   ],
   "source": [
    "my_name[1:8]"
   ]
  },
  {
   "cell_type": "code",
   "execution_count": 20,
   "id": "cc577af3",
   "metadata": {},
   "outputs": [
    {
     "data": {
      "text/plain": [
       "'ah'"
      ]
     },
     "execution_count": 20,
     "metadata": {},
     "output_type": "execute_result"
    }
   ],
   "source": [
    "my_name[1:3]"
   ]
  },
  {
   "cell_type": "markdown",
   "id": "36235560",
   "metadata": {},
   "source": [
    "### Joining first name and last name"
   ]
  },
  {
   "cell_type": "code",
   "execution_count": 21,
   "id": "39d503ae",
   "metadata": {},
   "outputs": [
    {
     "name": "stdout",
     "output_type": "stream",
     "text": [
      "Mahsa Rastaghi\n"
     ]
    }
   ],
   "source": [
    "first_name = \"Mahsa\"\n",
    "last_name = \"Rastaghi\"\n",
    "\n",
    "full_name = first_name +\" \"+ last_name\n",
    "\n",
    "print(full_name)"
   ]
  },
  {
   "cell_type": "code",
   "execution_count": 22,
   "id": "33fe0b88",
   "metadata": {},
   "outputs": [
    {
     "data": {
      "text/plain": [
       "'MahsaMahsaMahsaMahsaMahsaMahsaMahsaMahsaMahsaMahsaMahsaMahsaMahsaMahsaMahsaMahsaMahsaMahsaMahsaMahsaMahsaMahsaMahsaMahsaMahsaMahsaMahsaMahsaMahsaMahsaMahsaMahsaMahsaMahsaMahsaMahsaMahsaMahsaMahsaMahsaMahsaMahsaMahsaMahsaMahsaMahsaMahsaMahsaMahsaMahsaMahsaMahsaMahsaMahsaMahsaMahsaMahsaMahsaMahsaMahsaMahsaMahsaMahsaMahsaMahsaMahsaMahsaMahsaMahsaMahsaMahsaMahsaMahsaMahsaMahsaMahsaMahsaMahsaMahsaMahsaMahsaMahsaMahsaMahsaMahsaMahsaMahsaMahsaMahsaMahsaMahsaMahsaMahsaMahsaMahsaMahsaMahsaMahsaMahsaMahsa'"
      ]
     },
     "execution_count": 22,
     "metadata": {},
     "output_type": "execute_result"
    }
   ],
   "source": [
    "first_name * 100"
   ]
  },
  {
   "cell_type": "code",
   "execution_count": 23,
   "id": "acafbe41",
   "metadata": {},
   "outputs": [
    {
     "name": "stdout",
     "output_type": "stream",
     "text": [
      "2\n",
      "11\n"
     ]
    }
   ],
   "source": [
    "temp_int = 1\n",
    "temp_str = \"1\"\n",
    "\n",
    "print(temp_int*2)\n",
    "print(temp_str*2)\n",
    "\n",
    "temp = \"\"\"sdkafjh\n",
    "akdhcksjd\n",
    "lckjdkjs\n",
    "jdbcsdjb\"\"\""
   ]
  },
  {
   "cell_type": "code",
   "execution_count": 24,
   "id": "f492ce7c",
   "metadata": {},
   "outputs": [
    {
     "name": "stdout",
     "output_type": "stream",
     "text": [
      "-1\n"
     ]
    },
    {
     "data": {
      "text/plain": [
       "6"
      ]
     },
     "execution_count": 24,
     "metadata": {},
     "output_type": "execute_result"
    }
   ],
   "source": [
    "print(my_name.find(\"t\"))\n",
    "\n",
    "full_name.find(last_name)"
   ]
  },
  {
   "cell_type": "markdown",
   "id": "87a8469d",
   "metadata": {},
   "source": [
    "#  $\\color{purple}{\\text{Session 4}}$"
   ]
  },
  {
   "cell_type": "code",
   "execution_count": 25,
   "id": "f71a7abe",
   "metadata": {},
   "outputs": [
    {
     "name": "stdout",
     "output_type": "stream",
     "text": [
      "2\n"
     ]
    }
   ],
   "source": [
    "a = 2\n",
    "b = a\n",
    "print(b)"
   ]
  },
  {
   "cell_type": "code",
   "execution_count": 26,
   "id": "d067dd1e",
   "metadata": {},
   "outputs": [
    {
     "data": {
      "text/plain": [
       "True"
      ]
     },
     "execution_count": 26,
     "metadata": {},
     "output_type": "execute_result"
    }
   ],
   "source": [
    "a = 2\n",
    "b = 2\n",
    "a == b"
   ]
  },
  {
   "cell_type": "code",
   "execution_count": 27,
   "id": "c9dbe513",
   "metadata": {},
   "outputs": [
    {
     "data": {
      "text/plain": [
       "'M'"
      ]
     },
     "execution_count": 27,
     "metadata": {},
     "output_type": "execute_result"
    }
   ],
   "source": [
    "full_name[0]"
   ]
  },
  {
   "cell_type": "markdown",
   "id": "d7611fba",
   "metadata": {},
   "source": [
    "### Immutable"
   ]
  },
  {
   "cell_type": "code",
   "execution_count": 28,
   "id": "22809161",
   "metadata": {},
   "outputs": [
    {
     "name": "stdout",
     "output_type": "stream",
     "text": [
      "Alireza Rastaghi\n"
     ]
    }
   ],
   "source": [
    "brother = \"Alireza\"\n",
    "brother_name = full_name.replace(first_name , brother)\n",
    "\n",
    "print(brother_name)"
   ]
  },
  {
   "cell_type": "code",
   "execution_count": 29,
   "id": "77475282",
   "metadata": {},
   "outputs": [
    {
     "name": "stdout",
     "output_type": "stream",
     "text": [
      "Alireza\n"
     ]
    }
   ],
   "source": [
    "my_double_fullname = first_name * 2\n",
    "\n",
    "my_double_fullname2 = my_double_fullname.replace(my_double_fullname , brother)\n",
    "\n",
    "print(my_double_fullname2)"
   ]
  },
  {
   "cell_type": "markdown",
   "id": "2cc2de4e",
   "metadata": {},
   "source": [
    "### Upper case and lower case"
   ]
  },
  {
   "cell_type": "code",
   "execution_count": 30,
   "id": "f66b3b4d",
   "metadata": {},
   "outputs": [
    {
     "data": {
      "text/plain": [
       "'mahsa rastaghi'"
      ]
     },
     "execution_count": 30,
     "metadata": {},
     "output_type": "execute_result"
    }
   ],
   "source": [
    "full_name.lower()"
   ]
  },
  {
   "cell_type": "code",
   "execution_count": 31,
   "id": "2fed9e70",
   "metadata": {},
   "outputs": [
    {
     "data": {
      "text/plain": [
       "'alireza rastaghi'"
      ]
     },
     "execution_count": 31,
     "metadata": {},
     "output_type": "execute_result"
    }
   ],
   "source": [
    "brother_name.lower()"
   ]
  },
  {
   "cell_type": "markdown",
   "id": "c728131c",
   "metadata": {},
   "source": [
    "### Check if there are other things except alphabets"
   ]
  },
  {
   "cell_type": "code",
   "execution_count": 32,
   "id": "62fedb57",
   "metadata": {},
   "outputs": [
    {
     "data": {
      "text/plain": [
       "False"
      ]
     },
     "execution_count": 32,
     "metadata": {},
     "output_type": "execute_result"
    }
   ],
   "source": [
    "full_name.isalpha()"
   ]
  },
  {
   "cell_type": "code",
   "execution_count": 33,
   "id": "65e96b81",
   "metadata": {},
   "outputs": [
    {
     "data": {
      "text/plain": [
       "True"
      ]
     },
     "execution_count": 33,
     "metadata": {},
     "output_type": "execute_result"
    }
   ],
   "source": [
    "name = \"mahsarastaghi\"\n",
    "name.isalpha()"
   ]
  },
  {
   "cell_type": "markdown",
   "id": "075ffd4e",
   "metadata": {},
   "source": [
    "### Creating list based on \"space\""
   ]
  },
  {
   "cell_type": "code",
   "execution_count": 71,
   "id": "690d998b",
   "metadata": {},
   "outputs": [
    {
     "data": {
      "text/plain": [
       "['Amir', 'houshang', 'Hoseinpour', 'Dehkordi']"
      ]
     },
     "execution_count": 71,
     "metadata": {},
     "output_type": "execute_result"
    }
   ],
   "source": [
    "teacher_name = \"Amir houshang Hoseinpour Dehkordi\"\n",
    "teacher_name.split(' ')"
   ]
  },
  {
   "cell_type": "markdown",
   "id": "8cb41c1e",
   "metadata": {},
   "source": [
    "### Creating list based on \"comma\""
   ]
  },
  {
   "cell_type": "code",
   "execution_count": 35,
   "id": "a27c9978",
   "metadata": {},
   "outputs": [
    {
     "data": {
      "text/plain": [
       "['Amir', 'houshang', 'Hoseinpour', 'Dehkordi']"
      ]
     },
     "execution_count": 35,
     "metadata": {},
     "output_type": "execute_result"
    }
   ],
   "source": [
    "teacher_name1 = \"Amir,houshang,Hoseinpour,Dehkordi\"\n",
    "teacher_name1.split(',')"
   ]
  },
  {
   "cell_type": "markdown",
   "id": "154f01e1",
   "metadata": {},
   "source": [
    "### Separating values by \" : \""
   ]
  },
  {
   "cell_type": "code",
   "execution_count": 36,
   "id": "205a923d",
   "metadata": {},
   "outputs": [
    {
     "name": "stdout",
     "output_type": "stream",
     "text": [
      "['17', '47', '33']\n"
     ]
    }
   ],
   "source": [
    "time = \"17:47:33\"\n",
    "\n",
    "splited_time = time.split(\":\")\n",
    "\n",
    "print(splited_time)"
   ]
  },
  {
   "cell_type": "code",
   "execution_count": 37,
   "id": "87af398f",
   "metadata": {},
   "outputs": [
    {
     "data": {
      "text/plain": [
       "['__add__',\n",
       " '__class__',\n",
       " '__contains__',\n",
       " '__delattr__',\n",
       " '__dir__',\n",
       " '__doc__',\n",
       " '__eq__',\n",
       " '__format__',\n",
       " '__ge__',\n",
       " '__getattribute__',\n",
       " '__getitem__',\n",
       " '__getnewargs__',\n",
       " '__getstate__',\n",
       " '__gt__',\n",
       " '__hash__',\n",
       " '__init__',\n",
       " '__init_subclass__',\n",
       " '__iter__',\n",
       " '__le__',\n",
       " '__len__',\n",
       " '__lt__',\n",
       " '__mod__',\n",
       " '__mul__',\n",
       " '__ne__',\n",
       " '__new__',\n",
       " '__reduce__',\n",
       " '__reduce_ex__',\n",
       " '__repr__',\n",
       " '__rmod__',\n",
       " '__rmul__',\n",
       " '__setattr__',\n",
       " '__sizeof__',\n",
       " '__str__',\n",
       " '__subclasshook__',\n",
       " 'capitalize',\n",
       " 'casefold',\n",
       " 'center',\n",
       " 'count',\n",
       " 'encode',\n",
       " 'endswith',\n",
       " 'expandtabs',\n",
       " 'find',\n",
       " 'format',\n",
       " 'format_map',\n",
       " 'index',\n",
       " 'isalnum',\n",
       " 'isalpha',\n",
       " 'isascii',\n",
       " 'isdecimal',\n",
       " 'isdigit',\n",
       " 'isidentifier',\n",
       " 'islower',\n",
       " 'isnumeric',\n",
       " 'isprintable',\n",
       " 'isspace',\n",
       " 'istitle',\n",
       " 'isupper',\n",
       " 'join',\n",
       " 'ljust',\n",
       " 'lower',\n",
       " 'lstrip',\n",
       " 'maketrans',\n",
       " 'partition',\n",
       " 'removeprefix',\n",
       " 'removesuffix',\n",
       " 'replace',\n",
       " 'rfind',\n",
       " 'rindex',\n",
       " 'rjust',\n",
       " 'rpartition',\n",
       " 'rsplit',\n",
       " 'rstrip',\n",
       " 'split',\n",
       " 'splitlines',\n",
       " 'startswith',\n",
       " 'strip',\n",
       " 'swapcase',\n",
       " 'title',\n",
       " 'translate',\n",
       " 'upper',\n",
       " 'zfill']"
      ]
     },
     "execution_count": 37,
     "metadata": {},
     "output_type": "execute_result"
    }
   ],
   "source": [
    "dir(full_name)"
   ]
  },
  {
   "cell_type": "code",
   "execution_count": 38,
   "id": "4255b5a4",
   "metadata": {},
   "outputs": [
    {
     "name": "stdout",
     "output_type": "stream",
     "text": [
      "Help on built-in function upper:\n",
      "\n",
      "upper() method of builtins.str instance\n",
      "    Return a copy of the string converted to uppercase.\n",
      "\n"
     ]
    }
   ],
   "source": [
    "help(full_name.upper)"
   ]
  },
  {
   "cell_type": "code",
   "execution_count": 39,
   "id": "599f4b99",
   "metadata": {},
   "outputs": [
    {
     "name": "stdout",
     "output_type": "stream",
     "text": [
      "mahsa\n",
      "rastaghi\n"
     ]
    }
   ],
   "source": [
    "temp_name = 'mahsa\\nrastaghi'\n",
    "print(temp_name)"
   ]
  },
  {
   "cell_type": "code",
   "execution_count": 40,
   "id": "e0c2f58f",
   "metadata": {},
   "outputs": [
    {
     "name": "stdout",
     "output_type": "stream",
     "text": [
      "\"\n"
     ]
    }
   ],
   "source": [
    "print(\"\\\"\")"
   ]
  },
  {
   "cell_type": "markdown",
   "id": "8a69be77",
   "metadata": {},
   "source": [
    "# $\\color{red}{\\text{Q1.}}$Find the number of \"python\" ' s in it's wikipedia page"
   ]
  },
  {
   "cell_type": "code",
   "execution_count": 73,
   "id": "db7b01ce",
   "metadata": {},
   "outputs": [
    {
     "data": {
      "text/plain": [
       "0"
      ]
     },
     "execution_count": 73,
     "metadata": {},
     "output_type": "execute_result"
    }
   ],
   "source": [
    "wiki_page = \"صفحه ویکی پدیا به دلیل طولانی بودن متن و ایجاد مشکل برای جوپیتر اینجا کپی نشد\"\n",
    "\n",
    "wiki_page.count(\"python\")"
   ]
  },
  {
   "cell_type": "markdown",
   "id": "e5f63b30",
   "metadata": {},
   "source": [
    "#  $\\color{purple}{\\text{Session5}}$"
   ]
  },
  {
   "cell_type": "markdown",
   "id": "553304ab",
   "metadata": {},
   "source": [
    "## IF and ELSE"
   ]
  },
  {
   "cell_type": "code",
   "execution_count": 41,
   "id": "af5019de",
   "metadata": {},
   "outputs": [
    {
     "name": "stdout",
     "output_type": "stream",
     "text": [
      "hi\n"
     ]
    }
   ],
   "source": [
    "if True:\n",
    "    print(\"hi\")"
   ]
  },
  {
   "cell_type": "code",
   "execution_count": 42,
   "id": "168a2446",
   "metadata": {},
   "outputs": [],
   "source": [
    "if False:\n",
    "    print(\"hi\")"
   ]
  },
  {
   "cell_type": "code",
   "execution_count": 43,
   "id": "268738f3",
   "metadata": {},
   "outputs": [
    {
     "name": "stdout",
     "output_type": "stream",
     "text": [
      "hi\n"
     ]
    }
   ],
   "source": [
    "if 3:\n",
    "    print(\"hi\")"
   ]
  },
  {
   "cell_type": "code",
   "execution_count": 44,
   "id": "2b9effe0",
   "metadata": {},
   "outputs": [],
   "source": [
    "if 0:\n",
    "    print(\"hello\")"
   ]
  },
  {
   "cell_type": "code",
   "execution_count": 45,
   "id": "905df682",
   "metadata": {},
   "outputs": [],
   "source": [
    "if \"\":\n",
    "    print(\"hello\")"
   ]
  },
  {
   "cell_type": "code",
   "execution_count": 46,
   "id": "828199c3",
   "metadata": {},
   "outputs": [
    {
     "name": "stdout",
     "output_type": "stream",
     "text": [
      "hello\n"
     ]
    }
   ],
   "source": [
    "if \"mahsa\":\n",
    "    print(\"hello\")"
   ]
  },
  {
   "cell_type": "code",
   "execution_count": 47,
   "id": "4440b002",
   "metadata": {},
   "outputs": [
    {
     "name": "stdout",
     "output_type": "stream",
     "text": [
      "esm man toolani ast\n"
     ]
    }
   ],
   "source": [
    "if len(my_name)>=5:\n",
    "    print(\"esm man toolani ast\")"
   ]
  },
  {
   "cell_type": "code",
   "execution_count": 48,
   "id": "6ced7181",
   "metadata": {},
   "outputs": [
    {
     "name": "stdout",
     "output_type": "stream",
     "text": [
      "esm man toolani nist\n"
     ]
    }
   ],
   "source": [
    "if len(my_name)>=7:\n",
    "    print(\"esm man toolani ast\")\n",
    "else:\n",
    "    print(\"esm man toolani nist\")"
   ]
  },
  {
   "cell_type": "code",
   "execution_count": 49,
   "id": "02798cea",
   "metadata": {},
   "outputs": [
    {
     "name": "stdout",
     "output_type": "stream",
     "text": [
      "esm man toolani ast\n"
     ]
    }
   ],
   "source": [
    "if len(full_name)>=7:\n",
    "    print(\"esm man toolani ast\")\n",
    "else:\n",
    "    print(\"esm man toolani nist\")"
   ]
  },
  {
   "cell_type": "code",
   "execution_count": 50,
   "id": "3dcc9e0c",
   "metadata": {},
   "outputs": [
    {
     "name": "stdout",
     "output_type": "stream",
     "text": [
      "esm man motevaset ast\n"
     ]
    }
   ],
   "source": [
    "input_name = \"amir\"\n",
    "\n",
    "if len(input_name)<=3:\n",
    "    \n",
    "    print(\"esm man kootah ast\")\n",
    "    \n",
    "elif 3<len(input_name)<=5:\n",
    "    \n",
    "    print(\"esm man motevaset ast\")\n",
    "    \n",
    "else:\n",
    "    \n",
    "    print(\"esm man toolani ast\")"
   ]
  },
  {
   "cell_type": "code",
   "execution_count": 51,
   "id": "36d537cb",
   "metadata": {},
   "outputs": [
    {
     "name": "stdout",
     "output_type": "stream",
     "text": [
      "esm man toolani ast\n"
     ]
    }
   ],
   "source": [
    "input_name = \"amirali\"\n",
    "\n",
    "if len(input_name)<=3:\n",
    "    \n",
    "    print(\"esm man kootah ast\")\n",
    "    \n",
    "elif 3<len(input_name)<=5:\n",
    "    \n",
    "    print(\"esm man motevaset ast\")\n",
    "    \n",
    "else:\n",
    "    \n",
    "    print(\"esm man toolani ast\")"
   ]
  },
  {
   "cell_type": "code",
   "execution_count": 52,
   "id": "7b37fa6e",
   "metadata": {},
   "outputs": [
    {
     "name": "stdout",
     "output_type": "stream",
     "text": [
      "esm man kootah ast\n"
     ]
    }
   ],
   "source": [
    "input_name = \"ava\"\n",
    "\n",
    "if len(input_name)<=3:\n",
    "    \n",
    "    print(\"esm man kootah ast\")\n",
    "    \n",
    "elif 3<len(input_name)<=5:\n",
    "    \n",
    "    print(\"esm man motevaset ast\")\n",
    "    \n",
    "else:\n",
    "    \n",
    "    print(\"esm man toolani ast\")"
   ]
  },
  {
   "cell_type": "code",
   "execution_count": 53,
   "id": "eea662f3",
   "metadata": {},
   "outputs": [
    {
     "name": "stdout",
     "output_type": "stream",
     "text": [
      "even,child\n"
     ]
    }
   ],
   "source": [
    "age = 18\n",
    "\n",
    "if age>20:\n",
    "    if not age %2 :\n",
    "        print(\"even,adult\")\n",
    "    else :\n",
    "        print(\"odd,adult\")\n",
    "else:\n",
    "    if not age %2 :\n",
    "        print(\"even,child\")\n",
    "    else :\n",
    "        print(\"odd,child\")  "
   ]
  },
  {
   "cell_type": "code",
   "execution_count": 54,
   "id": "7e517cab",
   "metadata": {},
   "outputs": [
    {
     "name": "stdout",
     "output_type": "stream",
     "text": [
      "odd,child\n"
     ]
    }
   ],
   "source": [
    "age = 19\n",
    "\n",
    "if age>20:\n",
    "    if age %2 ==0 :\n",
    "        print(\"even,adult\")\n",
    "    else :\n",
    "        print(\"odd,adult\")\n",
    "else:\n",
    "    if age %2==0 :\n",
    "        print(\"even,child\")\n",
    "    else :\n",
    "        print(\"odd,child\") "
   ]
  },
  {
   "cell_type": "markdown",
   "id": "47c448f1",
   "metadata": {},
   "source": [
    "## While Loop\n"
   ]
  },
  {
   "cell_type": "code",
   "execution_count": 55,
   "id": "8640e45c",
   "metadata": {},
   "outputs": [
    {
     "name": "stdout",
     "output_type": "stream",
     "text": [
      "8\n",
      "7\n",
      "6\n",
      "5\n",
      "4\n",
      "3\n",
      "2\n",
      "1\n"
     ]
    }
   ],
   "source": [
    "temp_int = 8\n",
    "while temp_int > 0:\n",
    "    print(temp_int)\n",
    "    temp_int -=1 #temp_int -=1 === temp_int - 1"
   ]
  },
  {
   "cell_type": "markdown",
   "id": "0dd5c1c1",
   "metadata": {},
   "source": [
    "## fibonacci < 100"
   ]
  },
  {
   "cell_type": "code",
   "execution_count": 56,
   "id": "ad0111d1",
   "metadata": {},
   "outputs": [
    {
     "name": "stdout",
     "output_type": "stream",
     "text": [
      "[0, 1, 1, 2, 3, 5, 8, 13, 21, 34, 55, 89]\n"
     ]
    }
   ],
   "source": [
    "n = 12  \n",
    "fib_sequence = [0, 1]\n",
    "\n",
    "for i in range(2, n):\n",
    "    fib_sequence.append(fib_sequence[-1] + fib_sequence[-2])\n",
    "    \n",
    "\n",
    "print(fib_sequence)"
   ]
  },
  {
   "cell_type": "code",
   "execution_count": 57,
   "id": "ffa0112b",
   "metadata": {},
   "outputs": [
    {
     "name": "stdout",
     "output_type": "stream",
     "text": [
      "[0, 1, 1, 2, 3, 5, 8, 13, 21, 34, 55, 89]\n"
     ]
    }
   ],
   "source": [
    "fib_sequence = [0, 1]\n",
    "\n",
    "while True:\n",
    "    next_number = fib_sequence[-1] + fib_sequence[-2]\n",
    "    if next_number >= 100:\n",
    "        break\n",
    "    fib_sequence.append(next_number)\n",
    "\n",
    "print(fib_sequence) "
   ]
  },
  {
   "cell_type": "code",
   "execution_count": 58,
   "id": "797588eb",
   "metadata": {},
   "outputs": [
    {
     "name": "stdout",
     "output_type": "stream",
     "text": [
      "[0, 1, 1, 2, 3, 5, 8, 13, 21, 34, 55, 89]\n"
     ]
    }
   ],
   "source": [
    "fib_sequence = [0, 1]\n",
    "\n",
    "while fib_sequence[-1] + fib_sequence[-2] < 100:\n",
    "    fib_sequence.append(fib_sequence[-1] + fib_sequence[-2])\n",
    "\n",
    "print(fib_sequence)"
   ]
  },
  {
   "cell_type": "markdown",
   "id": "f713848c",
   "metadata": {},
   "source": [
    "#  $\\color{purple}{\\text{Session 6}}$"
   ]
  },
  {
   "cell_type": "markdown",
   "id": "175e4bc4",
   "metadata": {},
   "source": [
    "### Check if p is a prime number"
   ]
  },
  {
   "cell_type": "code",
   "execution_count": 59,
   "id": "3174db10",
   "metadata": {},
   "outputs": [
    {
     "name": "stdout",
     "output_type": "stream",
     "text": [
      "is not Prime\n"
     ]
    }
   ],
   "source": [
    "p = 8\n",
    "temp_P = p-1\n",
    "aya_aval_ast = True\n",
    "while temp_P > 1:\n",
    "    if p % temp_P == 0 :\n",
    "        aya_aval_ast = False\n",
    "        break\n",
    "    temp_P -= 1\n",
    "if aya_aval_ast:\n",
    "    print(\"?is Prime\")\n",
    "else:\n",
    "    print(\"is not Prime\")"
   ]
  },
  {
   "cell_type": "markdown",
   "id": "c04a158b",
   "metadata": {},
   "source": [
    "#  $\\color{purple}{\\text{Session 7}}$\n"
   ]
  },
  {
   "cell_type": "markdown",
   "id": "06565f2e",
   "metadata": {},
   "source": [
    "## For Loop"
   ]
  },
  {
   "cell_type": "code",
   "execution_count": 60,
   "id": "e238d052",
   "metadata": {},
   "outputs": [],
   "source": [
    "#while True: #in tike hamishe anjam beshe\n",
    "#    if 't'is pressed:# shart baraye ghat shodan loop\n",
    "#        break\n",
    "    "
   ]
  },
  {
   "cell_type": "code",
   "execution_count": 61,
   "id": "68edd019",
   "metadata": {},
   "outputs": [
    {
     "name": "stdout",
     "output_type": "stream",
     "text": [
      "0\n",
      "1\n",
      "2\n",
      "3\n",
      "4\n",
      "5\n",
      "6\n",
      "7\n",
      "8\n",
      "9\n"
     ]
    }
   ],
   "source": [
    "for i in range(10):\n",
    "    print(i)"
   ]
  },
  {
   "cell_type": "code",
   "execution_count": 62,
   "id": "b578f7b1",
   "metadata": {},
   "outputs": [
    {
     "name": "stdout",
     "output_type": "stream",
     "text": [
      "0\n",
      "1\n",
      "3\n",
      "6\n",
      "10\n"
     ]
    }
   ],
   "source": [
    "sum = 0\n",
    "for i in range(5):\n",
    "    sum += i\n",
    "    print(sum)"
   ]
  },
  {
   "cell_type": "code",
   "execution_count": 63,
   "id": "7d2d8019",
   "metadata": {},
   "outputs": [
    {
     "name": "stdout",
     "output_type": "stream",
     "text": [
      "i=0,sum=0\n",
      "i=1,sum=1\n",
      "i=2,sum=3\n",
      "i=3,sum=6\n",
      "i=4,sum=10\n",
      "end\n"
     ]
    }
   ],
   "source": [
    "sum = 0\n",
    "for i in range(5):\n",
    "    sum+= i\n",
    "    print('i='+str(i)+',sum='+str(sum))\n",
    "print('end')"
   ]
  },
  {
   "cell_type": "code",
   "execution_count": 64,
   "id": "bded034c",
   "metadata": {},
   "outputs": [
    {
     "name": "stdout",
     "output_type": "stream",
     "text": [
      "36288000\n"
     ]
    }
   ],
   "source": [
    "n = 10\n",
    "for i in range(1,n+1):\n",
    "    n *= i\n",
    "print(n)"
   ]
  },
  {
   "cell_type": "code",
   "execution_count": 65,
   "id": "92a95c17",
   "metadata": {},
   "outputs": [
    {
     "name": "stdout",
     "output_type": "stream",
     "text": [
      "3628800\n"
     ]
    }
   ],
   "source": [
    "n = 10\n",
    "fact = 1\n",
    "for i in range(n):\n",
    "    fact = fact*(i+1)\n",
    "print(fact)"
   ]
  },
  {
   "cell_type": "markdown",
   "id": "3ae91ca7",
   "metadata": {},
   "source": [
    "### HOP game"
   ]
  },
  {
   "cell_type": "code",
   "execution_count": 66,
   "id": "b2d10da5",
   "metadata": {
    "scrolled": true
   },
   "outputs": [
    {
     "name": "stdout",
     "output_type": "stream",
     "text": [
      "1\n",
      "2\n",
      "HOP\n",
      "4\n",
      "5\n",
      "HOP\n",
      "7\n",
      "8\n",
      "HOP\n",
      "10\n",
      "11\n",
      "HOP\n",
      "13\n",
      "14\n",
      "HOP\n",
      "16\n",
      "17\n",
      "HOP\n",
      "19\n",
      "20\n",
      "HOP\n",
      "22\n",
      "23\n",
      "HOP\n",
      "25\n"
     ]
    }
   ],
   "source": [
    "for i in range(1,26):\n",
    "    if i%3 == 0:\n",
    "        print(\"HOP\")\n",
    "    else:\n",
    "        print(i)\n",
    "    "
   ]
  },
  {
   "cell_type": "markdown",
   "id": "91761489",
   "metadata": {},
   "source": [
    "#  $\\color{purple}{\\text{Session 8}}$"
   ]
  },
  {
   "cell_type": "markdown",
   "id": "27c2494c",
   "metadata": {},
   "source": [
    "## List"
   ]
  },
  {
   "cell_type": "code",
   "execution_count": 67,
   "id": "e4759696",
   "metadata": {},
   "outputs": [
    {
     "data": {
      "text/plain": [
       "3"
      ]
     },
     "execution_count": 67,
     "metadata": {},
     "output_type": "execute_result"
    }
   ],
   "source": [
    "temp_list = [22,'Mahsa',3.14]\n",
    "len(temp_list)"
   ]
  },
  {
   "cell_type": "code",
   "execution_count": 68,
   "id": "be3130e0",
   "metadata": {},
   "outputs": [
    {
     "data": {
      "text/plain": [
       "5"
      ]
     },
     "execution_count": 68,
     "metadata": {},
     "output_type": "execute_result"
    }
   ],
   "source": [
    "len(temp_list[1])"
   ]
  },
  {
   "cell_type": "code",
   "execution_count": 69,
   "id": "68639692",
   "metadata": {},
   "outputs": [
    {
     "data": {
      "text/plain": [
       "'s'"
      ]
     },
     "execution_count": 69,
     "metadata": {},
     "output_type": "execute_result"
    }
   ],
   "source": [
    "temp_list[1][3]"
   ]
  },
  {
   "cell_type": "code",
   "execution_count": 70,
   "id": "558d0481",
   "metadata": {},
   "outputs": [
    {
     "ename": "TypeError",
     "evalue": "'int' object is not subscriptable",
     "output_type": "error",
     "traceback": [
      "\u001b[1;31m---------------------------------------------------------------------------\u001b[0m",
      "\u001b[1;31mTypeError\u001b[0m                                 Traceback (most recent call last)",
      "Cell \u001b[1;32mIn[70], line 1\u001b[0m\n\u001b[1;32m----> 1\u001b[0m temp_list[\u001b[38;5;241m0\u001b[39m][\u001b[38;5;241m1\u001b[39m]\n",
      "\u001b[1;31mTypeError\u001b[0m: 'int' object is not subscriptable"
     ]
    }
   ],
   "source": [
    "temp_list[0][1]"
   ]
  },
  {
   "cell_type": "code",
   "execution_count": null,
   "id": "9ce9a328",
   "metadata": {},
   "outputs": [],
   "source": [
    "temp_list[:-1]"
   ]
  },
  {
   "cell_type": "code",
   "execution_count": null,
   "id": "6c00fd7d",
   "metadata": {
    "scrolled": true
   },
   "outputs": [],
   "source": [
    "temp_list[1:]"
   ]
  },
  {
   "cell_type": "markdown",
   "id": "5ef98c17",
   "metadata": {},
   "source": [
    "### Add to the list"
   ]
  },
  {
   "cell_type": "code",
   "execution_count": null,
   "id": "788c4981",
   "metadata": {},
   "outputs": [],
   "source": [
    "temp_list = temp_list+ [2 , 'programming' , 2.71828]\n",
    "temp_list"
   ]
  },
  {
   "cell_type": "code",
   "execution_count": null,
   "id": "0e12c38e",
   "metadata": {},
   "outputs": [],
   "source": [
    "temp_list.append('ali')\n",
    "temp_list"
   ]
  },
  {
   "cell_type": "code",
   "execution_count": null,
   "id": "b9f3d339",
   "metadata": {},
   "outputs": [],
   "source": [
    "dir(temp_list)"
   ]
  },
  {
   "cell_type": "code",
   "execution_count": null,
   "id": "7904ea4a",
   "metadata": {},
   "outputs": [],
   "source": [
    "temp_list.pop()"
   ]
  },
  {
   "cell_type": "code",
   "execution_count": null,
   "id": "77c5eea3",
   "metadata": {},
   "outputs": [],
   "source": [
    "temp_list"
   ]
  },
  {
   "cell_type": "markdown",
   "id": "3d782f9b",
   "metadata": {},
   "source": [
    " ### Sorting list items"
   ]
  },
  {
   "cell_type": "code",
   "execution_count": null,
   "id": "301d7240",
   "metadata": {},
   "outputs": [],
   "source": [
    "ages = [12,15,22,56]\n",
    "ages.sort()\n",
    "ages"
   ]
  },
  {
   "cell_type": "code",
   "execution_count": null,
   "id": "8576ed8c",
   "metadata": {},
   "outputs": [],
   "source": [
    "ages2 = [1,5,2,'s']\n",
    "ages2.sort()\n",
    "ages2"
   ]
  },
  {
   "cell_type": "code",
   "execution_count": null,
   "id": "307f19be",
   "metadata": {},
   "outputs": [],
   "source": [
    "ages3 = ['5','6', 'f', 't','L','P']\n",
    "ages3.sort()\n",
    "ages3"
   ]
  },
  {
   "cell_type": "code",
   "execution_count": null,
   "id": "82fedfa4",
   "metadata": {},
   "outputs": [],
   "source": [
    "nested_array = [[1,2,3],[4,5,6],[7,8,9]]\n",
    "nested_array"
   ]
  },
  {
   "cell_type": "code",
   "execution_count": null,
   "id": "8c8fa76e",
   "metadata": {},
   "outputs": [],
   "source": [
    "nested_array[0][0]"
   ]
  },
  {
   "cell_type": "code",
   "execution_count": null,
   "id": "86bcdb14",
   "metadata": {},
   "outputs": [],
   "source": [
    "my_grades = [20,17,1,12]\n",
    "\n",
    "for i in my_grades:\n",
    "    print(i)"
   ]
  },
  {
   "cell_type": "code",
   "execution_count": null,
   "id": "f94f7690",
   "metadata": {},
   "outputs": [],
   "source": [
    "my_classes = ['Math', 'Physics', 'Programming', 'History']"
   ]
  },
  {
   "cell_type": "code",
   "execution_count": null,
   "id": "23e5828e",
   "metadata": {},
   "outputs": [],
   "source": [
    "for i in range(len(my_classes)):\n",
    "    print(f\"Course: {courses[i]}, Grade: {my_grades[i]}\")"
   ]
  },
  {
   "cell_type": "markdown",
   "id": "539cf866",
   "metadata": {},
   "source": [
    "# $\\color{red}{\\text{Q2.}}$ Print courses that you passed in the decending order"
   ]
  },
  {
   "cell_type": "code",
   "execution_count": 74,
   "id": "caf71c0f",
   "metadata": {},
   "outputs": [
    {
     "name": "stdout",
     "output_type": "stream",
     "text": [
      "Physics = 17\n",
      "Programming = 18\n",
      "Theory of probability = 19\n"
     ]
    }
   ],
   "source": [
    "my_grades = [9,17,18,19]\n",
    "my_classes = ['Math', 'Physics', 'Programming', 'Theory of probability']\n",
    "for i in range(len(my_grades)):\n",
    "    if my_grades[i] >= 10:\n",
    "        print(my_classes[i],'=',my_grades[i])"
   ]
  },
  {
   "cell_type": "code",
   "execution_count": 75,
   "id": "2da2d3af",
   "metadata": {},
   "outputs": [
    {
     "name": "stdout",
     "output_type": "stream",
     "text": [
      "Math=9\n",
      "Physics=17\n",
      "Programming=18\n",
      "Theory of probability=19\n"
     ]
    }
   ],
   "source": [
    "for i in range(len(my_grades)):\n",
    "    print(my_classes[i]+'='+str(my_grades[i]))"
   ]
  },
  {
   "cell_type": "markdown",
   "id": "b3fe7c80",
   "metadata": {},
   "source": [
    "### Floor and Ceiling Function"
   ]
  },
  {
   "cell_type": "code",
   "execution_count": null,
   "id": "bd4dc227",
   "metadata": {},
   "outputs": [],
   "source": [
    "pi = 3.14\n",
    "int(pi)"
   ]
  },
  {
   "cell_type": "code",
   "execution_count": null,
   "id": "4b5c776d",
   "metadata": {},
   "outputs": [],
   "source": [
    "e = 2.7\n",
    "int(e)"
   ]
  },
  {
   "cell_type": "markdown",
   "id": "b281e2b1",
   "metadata": {},
   "source": [
    "# $\\color{purple}{\\text{Session 9}}$"
   ]
  },
  {
   "cell_type": "markdown",
   "id": "d1f7b14a",
   "metadata": {},
   "source": [
    "## Dictionaries "
   ]
  },
  {
   "cell_type": "markdown",
   "id": "2e7f1c7d",
   "metadata": {},
   "source": [
    "### Making a profile for me"
   ]
  },
  {
   "cell_type": "code",
   "execution_count": 76,
   "id": "97e7c86e",
   "metadata": {},
   "outputs": [
    {
     "name": "stdout",
     "output_type": "stream",
     "text": [
      "Mahsa\n"
     ]
    }
   ],
   "source": [
    "my_profile = {'First name':'Mahsa','Last name':'Rastaghi'}\n",
    "print(my_profile['First name'])"
   ]
  },
  {
   "cell_type": "code",
   "execution_count": 77,
   "id": "ff5fdbab",
   "metadata": {},
   "outputs": [
    {
     "name": "stdout",
     "output_type": "stream",
     "text": [
      "{'First name': 'Mahsa', 'Last name': 'Rastaghi'}\n"
     ]
    }
   ],
   "source": [
    "my_profile1 = {'Name': my_profile , 'Age':22}\n",
    "print(my_profile1['Name'])"
   ]
  },
  {
   "cell_type": "code",
   "execution_count": 78,
   "id": "0fe073ca",
   "metadata": {},
   "outputs": [
    {
     "name": "stdout",
     "output_type": "stream",
     "text": [
      "Mahsa\n"
     ]
    }
   ],
   "source": [
    "print(my_profile1['Name']['First name'])"
   ]
  },
  {
   "cell_type": "code",
   "execution_count": 79,
   "id": "9d0b8cf9",
   "metadata": {},
   "outputs": [
    {
     "data": {
      "text/plain": [
       "{'Name': {'First name': 'Mahsa', 'Last name': 'Rastaghi'},\n",
       " 'Age': 22,\n",
       " 'Cities': ['Kish', 'Shiraz', 'Tehran']}"
      ]
     },
     "execution_count": 79,
     "metadata": {},
     "output_type": "execute_result"
    }
   ],
   "source": [
    "Cities = ['Kish', 'Shiraz' , 'Tehran']\n",
    "my_profile1['Cities'] = Cities\n",
    "my_profile1"
   ]
  },
  {
   "cell_type": "code",
   "execution_count": 80,
   "id": "535b98a6",
   "metadata": {},
   "outputs": [
    {
     "data": {
      "text/plain": [
       "3"
      ]
     },
     "execution_count": 80,
     "metadata": {},
     "output_type": "execute_result"
    }
   ],
   "source": [
    "len(my_profile1['Cities'])"
   ]
  },
  {
   "cell_type": "code",
   "execution_count": 81,
   "id": "8d94fddd",
   "metadata": {},
   "outputs": [
    {
     "data": {
      "text/plain": [
       "'Tehran'"
      ]
     },
     "execution_count": 81,
     "metadata": {},
     "output_type": "execute_result"
    }
   ],
   "source": [
    "my_profile1['Cities'][-1]"
   ]
  },
  {
   "cell_type": "code",
   "execution_count": 82,
   "id": "2726506b",
   "metadata": {},
   "outputs": [],
   "source": [
    "my_profile1['Friends'] = [\n",
    "                          {'first name': ' Mariam' , 'Last name': 'Shojaedin', 'Age': 21 , 'Id':0},\n",
    "                          {'first name': ' Nika' , 'Last name': 'Sadidi', 'Age': 22 , 'Id':1},\n",
    "                          {'first name': ' Hesam' , 'Last name': 'Fatemi zadeh', 'Age': 21 , 'Id':2}]\n"
   ]
  },
  {
   "cell_type": "code",
   "execution_count": 83,
   "id": "17c8992a",
   "metadata": {},
   "outputs": [
    {
     "data": {
      "text/plain": [
       "{'Name': {'First name': 'Mahsa', 'Last name': 'Rastaghi'},\n",
       " 'Age': 22,\n",
       " 'Cities': ['Kish', 'Shiraz', 'Tehran'],\n",
       " 'Friends': [{'first name': ' Mariam',\n",
       "   'Last name': 'Shojaedin',\n",
       "   'Age': 21,\n",
       "   'Id': 0},\n",
       "  {'first name': ' Nika', 'Last name': 'Sadidi', 'Age': 22, 'Id': 1},\n",
       "  {'first name': ' Hesam', 'Last name': 'Fatemi zadeh', 'Age': 21, 'Id': 2},\n",
       "  {'first name': 'Fatemeh', 'Last name': 'Sayyadi', 'Age': 22, 'Id': '3'}]}"
      ]
     },
     "execution_count": 83,
     "metadata": {},
     "output_type": "execute_result"
    }
   ],
   "source": [
    "my_profile1['Friends'].append({'first name': 'Fatemeh' , 'Last name': 'Sayyadi', 'Age': 22 , 'Id':'3'})\n",
    "my_profile1"
   ]
  },
  {
   "cell_type": "markdown",
   "id": "c9df8d58",
   "metadata": {},
   "source": [
    "# $\\color{red}{\\text{Q3.}}$ Print the name of the oldest friend and average age of your friends"
   ]
  },
  {
   "cell_type": "code",
   "execution_count": 84,
   "id": "5f2cf6b8",
   "metadata": {},
   "outputs": [],
   "source": [
    "def OldestAverageFriend(my_profile1):\n",
    "    Max_Age = 0\n",
    "    Max_Friend = 0\n",
    "    Sum_Age = 0\n",
    "    for i in my_profile1[\"Friends\"]:\n",
    "        Sum_Age += i[\"Age\"]\n",
    "        if i[\"Age\"] > Max_Age:\n",
    "            Max_Age = i[\"Age\"]\n",
    "            Max_Friend = i\n",
    "    Average_Age = Sum_Age / len(my_profile1[\"Friends\"])\n",
    "    return [Max_Friend,Average_Age ]"
   ]
  },
  {
   "cell_type": "code",
   "execution_count": 85,
   "id": "27fd2fda",
   "metadata": {},
   "outputs": [
    {
     "name": "stdout",
     "output_type": "stream",
     "text": [
      " Nika\n",
      "21.5\n",
      "[{'first name': ' Nika', 'Last name': 'Sadidi', 'Age': 22, 'Id': 1}, 21.5]\n"
     ]
    }
   ],
   "source": [
    "oldest_friend = OldestAverageFriend(my_profile1)[0]\n",
    "print(oldest_friend[\"first name\"])\n",
    "average_age_of_friend = OldestAverageFriend(my_profile1)[1]\n",
    "print(average_age_of_friend)\n",
    "output = OldestAverageFriend(my_profile1)\n",
    "print(output)\n"
   ]
  },
  {
   "cell_type": "markdown",
   "id": "f6a45725",
   "metadata": {},
   "source": [
    "#  $\\color{purple}{\\text{Session 10}}$"
   ]
  },
  {
   "cell_type": "markdown",
   "id": "c82b08f3",
   "metadata": {},
   "source": [
    "## Keys and Values of dictionaries"
   ]
  },
  {
   "cell_type": "code",
   "execution_count": null,
   "id": "7445f961",
   "metadata": {},
   "outputs": [],
   "source": [
    "my_profile1.keys()"
   ]
  },
  {
   "cell_type": "code",
   "execution_count": null,
   "id": "47e0558d",
   "metadata": {},
   "outputs": [],
   "source": [
    "my_profile1.values()"
   ]
  },
  {
   "cell_type": "code",
   "execution_count": null,
   "id": "71710684",
   "metadata": {},
   "outputs": [],
   "source": [
    "if \"Age\" in my_profile1.keys():\n",
    "    print(\"Age vared shode ast\")\n",
    "    \n",
    "else:\n",
    "    print(\"Age ra vared kon\")\n"
   ]
  },
  {
   "cell_type": "code",
   "execution_count": null,
   "id": "f85ffa65",
   "metadata": {},
   "outputs": [],
   "source": [
    "if \"Age\" in my_profile1.keys():\n",
    "    if my_profile1[\"Age\"]>=18:\n",
    "        print(\"ejaze darad\")\n",
    "else:\n",
    "    print(\"Age ra vared konid\")\n",
    "        "
   ]
  },
  {
   "cell_type": "code",
   "execution_count": null,
   "id": "1f422883",
   "metadata": {},
   "outputs": [],
   "source": [
    "if \"Age\" in my_profile1.keys():\n",
    "    if (my_profile1[\"Age\"])==int:\n",
    "        print(\"ejaze darad\")\n",
    "else:\n",
    "    print(\"Age ra vared konid\")\n",
    "      "
   ]
  },
  {
   "cell_type": "markdown",
   "id": "a1b3f538",
   "metadata": {},
   "source": [
    "## Converting my profile to a \" txt \" file"
   ]
  },
  {
   "cell_type": "code",
   "execution_count": 86,
   "id": "59143ad3",
   "metadata": {},
   "outputs": [],
   "source": [
    "temp_file = open(\"my_profile1.txt\" , \"w\")\n",
    "temp_file.write(str(my_profile1))\n",
    "temp_file.close()"
   ]
  },
  {
   "cell_type": "code",
   "execution_count": null,
   "id": "4cdb855c",
   "metadata": {},
   "outputs": [],
   "source": [
    "print(temp_file)"
   ]
  },
  {
   "cell_type": "markdown",
   "id": "8dc4a0df",
   "metadata": {},
   "source": [
    "## Opening a \" txt \" file"
   ]
  },
  {
   "cell_type": "code",
   "execution_count": null,
   "id": "475ec570",
   "metadata": {},
   "outputs": [],
   "source": [
    "amir_file = open(\"amir_profile.txt\" , \"r\")\n",
    "amir_profile = amir_file.read()\n",
    "amir_file.close()"
   ]
  },
  {
   "cell_type": "code",
   "execution_count": null,
   "id": "c4560790",
   "metadata": {},
   "outputs": [],
   "source": [
    "print(amir_profile)"
   ]
  },
  {
   "cell_type": "markdown",
   "id": "4cc82ecb",
   "metadata": {},
   "source": [
    "#  $\\color{purple}{\\text{Session 11}}$"
   ]
  },
  {
   "cell_type": "markdown",
   "id": "b0585095",
   "metadata": {},
   "source": [
    "## Functions"
   ]
  },
  {
   "cell_type": "markdown",
   "id": "204f1d87",
   "metadata": {},
   "source": [
    "#### $\\color{red}{\\text{midterm ta akhar jalase 11}}$"
   ]
  },
  {
   "cell_type": "code",
   "execution_count": 87,
   "id": "089346e9",
   "metadata": {},
   "outputs": [
    {
     "name": "stdout",
     "output_type": "stream",
     "text": [
      "5\n"
     ]
    }
   ],
   "source": [
    "print(len(\"mahsa\"))"
   ]
  },
  {
   "cell_type": "code",
   "execution_count": 90,
   "id": "fe5c18db",
   "metadata": {},
   "outputs": [],
   "source": [
    "def FunctionName(my_input):\n",
    "    print(my_input)\n",
    "    \n",
    "    \n",
    "    return my_input*2"
   ]
  },
  {
   "cell_type": "code",
   "execution_count": 89,
   "id": "11622409",
   "metadata": {},
   "outputs": [
    {
     "data": {
      "text/plain": [
       "'mahsamahsa'"
      ]
     },
     "execution_count": 89,
     "metadata": {},
     "output_type": "execute_result"
    }
   ],
   "source": [
    "my_function_value = FunctionName(\"mahsa\")\n",
    "my_function_value"
   ]
  },
  {
   "cell_type": "markdown",
   "id": "f3140ecb",
   "metadata": {},
   "source": [
    "### Fibonacci"
   ]
  },
  {
   "cell_type": "code",
   "execution_count": 91,
   "id": "147fec3b",
   "metadata": {},
   "outputs": [
    {
     "name": "stdout",
     "output_type": "stream",
     "text": [
      "[0, 1, 1, 2, 3, 5, 8, 13, 21, 34]\n"
     ]
    }
   ],
   "source": [
    "def Fib(n):\n",
    "    fib_sequence = [0, 1]\n",
    "    \n",
    "    while len(fib_sequence) < n:\n",
    "        fib_sequence.append(fib_sequence[-1] + fib_sequence[-2])\n",
    "    \n",
    "    return fib_sequence\n",
    "\n",
    "\n",
    "print(Fib(10))  \n"
   ]
  },
  {
   "cell_type": "code",
   "execution_count": 92,
   "id": "d982a2a1",
   "metadata": {},
   "outputs": [
    {
     "name": "stdout",
     "output_type": "stream",
     "text": [
      "MahsaMahsaMahsaMahsaMahsaMahsaMahsaMahsa\n"
     ]
    }
   ],
   "source": [
    "n = 3\n",
    "mult = 1\n",
    "for i in range(n):\n",
    "    mult = mult*2\n",
    "a = mult\n",
    "print(my_name*a)"
   ]
  },
  {
   "cell_type": "code",
   "execution_count": 94,
   "id": "882a242f",
   "metadata": {},
   "outputs": [],
   "source": [
    "def power2(n):\n",
    "    mult = 1\n",
    "    for i in range(n):\n",
    "        mult = mult * 2\n",
    "    return mult"
   ]
  },
  {
   "cell_type": "code",
   "execution_count": 95,
   "id": "ee6f6d54",
   "metadata": {},
   "outputs": [],
   "source": [
    "def power_k(k,n):\n",
    "    mult = 1\n",
    "    for i in range(n):\n",
    "        mult = mult*k\n",
    "    return mult"
   ]
  },
  {
   "cell_type": "code",
   "execution_count": 96,
   "id": "e5a764f1",
   "metadata": {},
   "outputs": [
    {
     "data": {
      "text/plain": [
       "8"
      ]
     },
     "execution_count": 96,
     "metadata": {},
     "output_type": "execute_result"
    }
   ],
   "source": [
    "power_k(2,3)"
   ]
  },
  {
   "cell_type": "markdown",
   "id": "8fc007ea",
   "metadata": {},
   "source": [
    "# $\\color{red}{\\text{Q4.}}$ Hop game using function"
   ]
  },
  {
   "cell_type": "code",
   "execution_count": 97,
   "id": "cc09b61f",
   "metadata": {},
   "outputs": [],
   "source": [
    "def Hop(p):\n",
    "    for i in range(1 , p+1):\n",
    "        if i % 5 == 0:\n",
    "            print(\"Hop\")\n",
    "        else:\n",
    "            print(i)\n",
    "    return"
   ]
  },
  {
   "cell_type": "code",
   "execution_count": 99,
   "id": "349eafff",
   "metadata": {},
   "outputs": [
    {
     "name": "stdout",
     "output_type": "stream",
     "text": [
      "1\n",
      "2\n",
      "3\n",
      "4\n",
      "Hop\n",
      "6\n",
      "7\n",
      "8\n",
      "9\n",
      "Hop\n",
      "11\n",
      "12\n",
      "13\n",
      "14\n",
      "Hop\n",
      "16\n",
      "17\n",
      "18\n",
      "19\n",
      "Hop\n",
      "21\n",
      "22\n",
      "23\n",
      "24\n",
      "Hop\n"
     ]
    }
   ],
   "source": [
    "Hop(25)"
   ]
  },
  {
   "cell_type": "markdown",
   "id": "f9084b07",
   "metadata": {},
   "source": [
    "# $\\color{red}{\\text{Q5.}}$ def swap(a,b) 4,3 = swap(3,4)"
   ]
  },
  {
   "cell_type": "code",
   "execution_count": 100,
   "id": "d6eddfd0",
   "metadata": {},
   "outputs": [],
   "source": [
    "def swap(a , b):\n",
    "    \n",
    "    temp = a\n",
    "    a = b\n",
    "    b = temp\n",
    "    \n",
    "    return a , b"
   ]
  },
  {
   "cell_type": "code",
   "execution_count": 104,
   "id": "562c9954",
   "metadata": {},
   "outputs": [
    {
     "name": "stdout",
     "output_type": "stream",
     "text": [
      "swapped values: first = 3 , second = 12\n"
     ]
    }
   ],
   "source": [
    "first = 12\n",
    "second = 3\n",
    "first , second = swap(first , second)\n",
    "print(f\"swapped values: first = {first} , second = {second}\")"
   ]
  },
  {
   "cell_type": "markdown",
   "id": "e0fe16c2",
   "metadata": {},
   "source": [
    "#  $\\color{purple}{\\text{Session 12}}$"
   ]
  },
  {
   "cell_type": "markdown",
   "id": "5ad00726",
   "metadata": {},
   "source": [
    "## Adding id to my profile"
   ]
  },
  {
   "cell_type": "code",
   "execution_count": 105,
   "id": "3153ace2",
   "metadata": {
    "scrolled": true
   },
   "outputs": [
    {
     "data": {
      "text/plain": [
       "{'Name': {'First name': 'Mahsa', 'Last name': 'Rastaghi'},\n",
       " 'Age': 22,\n",
       " 'Cities': ['Kish', 'Shiraz', 'Tehran'],\n",
       " 'Friends': [{'first name': ' Mariam',\n",
       "   'Last name': 'Shojaedin',\n",
       "   'Age': 21,\n",
       "   'Id': 0},\n",
       "  {'first name': ' Nika', 'Last name': 'Sadidi', 'Age': 22, 'Id': 1},\n",
       "  {'first name': ' Hesam', 'Last name': 'Fatemi zadeh', 'Age': 21, 'Id': 2},\n",
       "  {'first name': 'Fatemeh', 'Last name': 'Sayyadi', 'Age': 22, 'Id': '3'}],\n",
       " 'Id': 18}"
      ]
     },
     "execution_count": 105,
     "metadata": {},
     "output_type": "execute_result"
    }
   ],
   "source": [
    "my_Id = 18\n",
    "my_profile1[\"Id\"] = my_Id\n",
    "my_profile1"
   ]
  },
  {
   "cell_type": "code",
   "execution_count": 106,
   "id": "740f904b",
   "metadata": {},
   "outputs": [],
   "source": [
    "temp_file = open(str(my_profile1[\"Id\"])+\".txt\" , \"w\")\n",
    "temp_file.write(str(my_profile1))\n",
    "temp_file.close()"
   ]
  },
  {
   "cell_type": "markdown",
   "id": "f72ad138",
   "metadata": {},
   "source": [
    "#  $\\color{purple}{\\text{Session 13}}$"
   ]
  },
  {
   "cell_type": "markdown",
   "id": "8d92eaaa",
   "metadata": {},
   "source": [
    "### Opening the classmates profile as a txt file"
   ]
  },
  {
   "cell_type": "code",
   "execution_count": 107,
   "id": "6dd236ef",
   "metadata": {},
   "outputs": [
    {
     "name": "stdout",
     "output_type": "stream",
     "text": [
      "{'name': {'first_name': 'Shayan', 'last_name': 'Shahvari'}, 'age': 20, 'cities': ['Tehran', 'Moscow', 'Kish'], 'friends': [{'first_name': 'Parsa', 'last_name': 'khaki', 'age': 30, 'id': 0}, {'first_name': 'Kiavash', 'last_name': 'abbasnejad', 'age': 37, 'id': 1}, {'first_name': 'Kourosh', 'last_name': 'ikani', 'age': 20}], 'id': 1}\n"
     ]
    }
   ],
   "source": [
    "f = open(\"Classmates/1.txt\")\n",
    "data = f.read()\n",
    "print(data)"
   ]
  },
  {
   "cell_type": "code",
   "execution_count": 108,
   "id": "bfd659b5",
   "metadata": {},
   "outputs": [
    {
     "name": "stdout",
     "output_type": "stream",
     "text": [
      "Contents of Classmates\\1.txt:\n",
      "{'name': {'first_name': 'Shayan', 'last_name': 'Shahvari'}, 'age': 20, 'cities': ['Tehran', 'Moscow', 'Kish'], 'friends': [{'first_name': 'Parsa', 'last_name': 'khaki', 'age': 30, 'id': 0}, {'first_name': 'Kiavash', 'last_name': 'abbasnejad', 'age': 37, 'id': 1}, {'first_name': 'Kourosh', 'last_name': 'ikani', 'age': 20}], 'id': 1}\n",
      "\n",
      "\n",
      "Contents of Classmates\\10.txt:\n",
      "{'name': {'firstName': 'amir_ali', 'lastName': 'mohammadi'}, 'age': 22, 'id': 10, 'cities': ['Tehran', 'kish', 'kabul'], 'friends': [{'firstName': 'kamran', 'lastName': 'Fry', 'age': 80, 'id': 0}, {'firstName': 'aligoodarz', 'lastName': 'baboli', 'age': 4, 'id': 1}, {'firstName': 'parham', 'lastName': 'Wong', 'age': 30, 'id': 2}]}\n",
      "\n",
      "\n",
      "Contents of Classmates\\11.txt:\n",
      "{'name': {'first_name': 'Parsa', 'last_name': 'Mollaei'}, 'age': 22, 'my_id': 11, 'cities': ['tehran', 'esfehan', 'kerman'], 'friends': [{'first_name': 'ali', 'last_name': 'Barkhodari', 'age': 22, 'id': '2'}, {'first_name': 'AmirHossein', 'last_name': 'yousefzade', 'age': 22, 'id': 2}, {'first_name': 'Parnian', 'last_name': 'Mollaei', 'age': 13, 'id': 3}]}\n",
      "\n",
      "\n",
      "Contents of Classmates\\12.txt:\n",
      "{'id': 12, 'name': 'Sina', 'age': 21, 'email': 'sina.sherkat@example.com', 'location': 'Kish'}\n",
      "\n",
      "\n",
      "Contents of Classmates\\13.txt:\n",
      "{'name': {'firstName': 'Fazel', 'lastName': 'Basiri'}, 'age': 25, 'cities': ['Bam', 'Shiraz', 'Kish'], 'friends': [{'firstName': 'Saeed', 'lastName': 'Ashrafian', 'age': 25}, {'firstName': 'Mahsa', 'lastName': 'Kzn', 'age':22}, {'firstName': 'Alireza', 'lastName': 'PourMoghadam', 'age':26}], 'id': 13}\n",
      "\n",
      "\n",
      "Contents of Classmates\\14.txt:\n",
      "{'name': {'first name': 'Mahsa', 'last name': 'kzn'}, 'age': 22, 'cities': ['Tehran', 'Shiraz', 'Rasht', 'Mashhad'], 'friends': [{'firstname': 'Fazel', 'Lastname': 'basiri', 'age': 25, 'id': 13}, {'firstname': 'Niayesh', 'lastname': 'Mohammadi', 'age': 22, 'id': 0}], 'id': 14}\n",
      "\n",
      "\n",
      "Contents of Classmates\\16.txt:\n",
      "{'name': {'firstname': 'Hesam', 'lastName': 'Fatemizadeh'}, 'age': 21, 'cities': ['TEHRAN', 'KISH', 'ABADAN'], 'friends': [{'firstname': 'mariam', 'lastname': 'shojaodin', 'age': 21, 'id': '100'}, {'firstname': 'abbas', 'lastname': 'ranjbar', 'age': 25, 'id': '101'}, {'firstname': 'ali', 'lastname': 'niazi', 'age': 23, 'id': 102}], 'id': 16}\n",
      "\n",
      "\n",
      "Contents of Classmates\\17.txt:\n",
      "{'name': {'first name': 'Mariam', 'last name': 'Shojaedin'}, 'age': 21, 'cities': ['Kaluga', 'Moscow', 'Sochi'], 'friends': [{'firstName': 'Mahsa', 'lastName': 'Rastaghi', 'age': 22, 'ID': '0'}, {'firstName': 'Hesam', 'lastName': 'Fatemizade', 'age': 21, 'ID': '1'}, {'firstName': 'Nika', 'lastName': 'Sadidi', 'age': 22, 'ID': '2'}, {'firstName': 'Ali', 'lastName': 'Niazi', 'age': 23, 'ID': '3'}], 'ID': 17}\n",
      "\n",
      "\n",
      "Contents of Classmates\\18.txt:\n",
      "{'Name': {'First name': 'Mahsa', 'Last name': 'Rastaghi'}, 'Age': 22, 'Cities': ['Kish', 'Shiraz', 'Tehran'], 'Friends': [{'first name': ' Mariam', 'Last name': 'Shojaedin', 'Age': 21, 'Id': 0}, {'first name': ' Nika', 'Last name': 'Sadidi', 'Age': 22, 'Id': 1}, {'first name': ' Hesam', 'Last name': 'Fatemi zadeh', 'Age': 21, 'Id': 2}, {'first name': 'Fatemeh', 'Last name': 'Sayyadi', 'Age': 22, 'Id': '3'}], 'Id': 18}\n",
      "\n",
      "\n",
      "Contents of Classmates\\19.txt:\n",
      "{'name': 'Mobina Mohammadiuon', 'age': 21, 'id': 19, 'cities': ['Tehran', 'Boston', 'Shahrkord'], 'friends': [{'firstName': 'Elaheh', 'lastName': 'HosseinAbadi', 'age': 21, 'id': 0}, {'firstName': 'Nika', 'lastName': 'Sadidi', 'age': 22, 'id': 1}, {'firstName': 'Azin', 'lastName': 'Esfandiari', 'age': 25, 'id': 2}]}\n",
      "\n",
      "\n",
      "Contents of Classmates\\2.txt:\n",
      "{'name': {'firstName': 'parsa', 'lastName': 'khaki'}, 'age': 19, 'cities': ['tehran', 'boston', 'mehran'], 'friends': [{'firstName': 'shayan', 'lastname': 'shahvari', 'age': 35, 'id': 0}, {'firstName': 'kiavash', 'lastName': 'abasnejad', 'age': 21, 'id': 1}, {'firstName': 'behrad', 'lastName': 'biniaz', 'age': 30, 'id': 2}], 'id': 2}\n",
      "\n",
      "\n",
      "Contents of Classmates\\4.txt:\n",
      "{'name': {'firstName': 'Zahra', 'lastName': 'Akhlaghipoor'}, 'age': 22, 'cities': ['Kish'], 'friends': [{'firstName': 'Tima', 'LastName': 'Kalhori', 'age': 19, 'id': 0}, {'firstName': 'Nikki', 'LastName': 'Khayyat', 'age': 21, 'id': 1}], 'id': 4}\n",
      "\n",
      "\n",
      "Contents of Classmates\\5.txt:\n",
      "{'firstName': 'Tima', 'lastName': 'Kalhori', 'age': 19, 'cities': ['Tehran', 'Boston', 'Shahrekord'], 'friends': [{'firstName': 'philip', 'lastName': 'fry', 'age': 35, 'id': 0}, {'firstName': 'zahra', 'lastName': 'akhlaghipoor', 'age': 22, 'id': 12}, {'firstName': 'leili', 'lastname': 'shabani', 'age': 27, 'id': 32}], 'id': 5}\n",
      "\n",
      "\n",
      "Contents of Classmates\\6.txt:\n",
      "{'name': {'firstname': 'Nikki', 'lastname': 'Khayyat'}, 'age': 23, 'cities': ['Tehran', 'Boston', 'Shahrekord'], 'friends': [{'firstname': 'Charles', 'lastname': 'Lec', 'age': 27, 'ID': 0}, {'firstname': 'Franco', 'lastname': 'Colapinto', 'age': 21, 'ID': 0}, {'firstname': 'Lewis', 'lastname': 'Hamilton', 'age': 40, 'ID': 0}], 'Id': 6}\n",
      "\n",
      "\n",
      "Contents of Classmates\\7.txt:\n",
      "{'name': {'firstname': 'Saba', 'surname': 'Sarlak'}, 'age': 20, 'cities': ['kl', 'iis', 'maha'], 'lastCity': ['kl'], 'friends': [{'firstname': 'elnaz', 'lastname': 'ahmad', 'age': 22, 'id': 0}, {'firstname': 'asal', 'lastname': 'sabaghzade', 'age': 26, 'id': 2}, {'firstname': 'setia', 'lastname': 'dehghan', 'id': 'bestfriend', 'age': 25}], 'id': 7}\n",
      "\n",
      "\n",
      "Contents of Classmates\\8.txt:\n",
      "{'name': {'first name': 'Mohammad', 'last name': 'Mohammad Khaninezhad'}, 'age': 20, 'cities': ['Tehran', 'Boston', 'Shahrekord'], 'friends': [{'first name': 'Shahrad', 'last name': 'Shahraki', 'age': 21, 'id': 0}, {'first name': 'Hossein', 'last name': 'Dehghan', 'age': 22, 'id': 1}, {'first name': 'Erfan', 'last name': 'Kasef', 'age': 23, 'id': 2}], 'id': 8}\n",
      "\n",
      "\n",
      "Contents of Classmates\\9.txt:\n",
      "{'name': {'first name': 'shahrad', 'last name': 'shahraki'}, 'age': 22, 'cities': ['birjand', 'khoosf', 'tabas'], 'friends': [{'first name': 'alireza', 'last name': 'balali', 'age': 7, 'id': 2}, {'first name': 'shahrokh', 'last name': 'shahmohammadi', 'age': 40, 'id': 7}, {'first name': 'saba', 'last name': 'samaani', 'age': 34, 'id': 5}], 'id': 9}\n",
      "\n",
      "\n"
     ]
    }
   ],
   "source": [
    "import glob\n",
    "\n",
    "\n",
    "file_list = glob.glob('Classmates/*.txt')\n",
    "\n",
    "\n",
    "for file_name in file_list:\n",
    "    with open(file_name, 'r') as file:\n",
    "        content = file.read()\n",
    "        print(f\"Contents of {file_name}:\")\n",
    "        print(content)\n",
    "        print(\"\\n\")"
   ]
  },
  {
   "cell_type": "code",
   "execution_count": 109,
   "id": "83589df1",
   "metadata": {},
   "outputs": [
    {
     "name": "stdout",
     "output_type": "stream",
     "text": [
      "['1.txt', '10.txt', '11.txt', '12.txt', '13.txt', '14.txt', '16.txt', '17.txt', '18.txt', '19.txt', '2.txt', '4.txt', '5.txt', '6.txt', '7.txt', '8.txt', '9.txt']\n"
     ]
    }
   ],
   "source": [
    "import os\n",
    "List_of_files = os.listdir('C:\\\\Users\\\\mahsa\\\\university\\\\Classmates')\n",
    "print(List_of_files)"
   ]
  },
  {
   "cell_type": "code",
   "execution_count": 110,
   "id": "642059aa",
   "metadata": {},
   "outputs": [
    {
     "name": "stdout",
     "output_type": "stream",
     "text": [
      "C:\\Users\\mahsa\\university\n",
      "['1.txt', '10.txt', '11.txt', '12.txt', '13.txt', '14.txt', '16.txt', '17.txt', '18.txt', '19.txt', '2.txt', '4.txt', '5.txt', '6.txt', '7.txt', '8.txt', '9.txt']\n"
     ]
    }
   ],
   "source": [
    "import os\n",
    "ROOT_DIR = os.path.abspath(os.curdir)\n",
    "print(ROOT_DIR)\n",
    "List_of_files = os.listdir(ROOT_DIR+'/Classmates')\n",
    "print(List_of_files)"
   ]
  },
  {
   "cell_type": "code",
   "execution_count": 111,
   "id": "bc369ff6",
   "metadata": {},
   "outputs": [
    {
     "data": {
      "text/plain": [
       "[\"{'name': {'first_name': 'Shayan', 'last_name': 'Shahvari'}, 'age': 20, 'cities': ['Tehran', 'Moscow', 'Kish'], 'friends': [{'first_name': 'Parsa', 'last_name': 'khaki', 'age': 30, 'id': 0}, {'first_name': 'Kiavash', 'last_name': 'abbasnejad', 'age': 37, 'id': 1}, {'first_name': 'Kourosh', 'last_name': 'ikani', 'age': 20}], 'id': 1}\",\n",
       " \"{'name': {'firstName': 'amir_ali', 'lastName': 'mohammadi'}, 'age': 22, 'id': 10, 'cities': ['Tehran', 'kish', 'kabul'], 'friends': [{'firstName': 'kamran', 'lastName': 'Fry', 'age': 80, 'id': 0}, {'firstName': 'aligoodarz', 'lastName': 'baboli', 'age': 4, 'id': 1}, {'firstName': 'parham', 'lastName': 'Wong', 'age': 30, 'id': 2}]}\",\n",
       " \"{'name': {'first_name': 'Parsa', 'last_name': 'Mollaei'}, 'age': 22, 'my_id': 11, 'cities': ['tehran', 'esfehan', 'kerman'], 'friends': [{'first_name': 'ali', 'last_name': 'Barkhodari', 'age': 22, 'id': '2'}, {'first_name': 'AmirHossein', 'last_name': 'yousefzade', 'age': 22, 'id': 2}, {'first_name': 'Parnian', 'last_name': 'Mollaei', 'age': 13, 'id': 3}]}\",\n",
       " \"{'id': 12, 'name': 'Sina', 'age': 21, 'email': 'sina.sherkat@example.com', 'location': 'Kish'}\",\n",
       " \"{'name': {'firstName': 'Fazel', 'lastName': 'Basiri'}, 'age': 25, 'cities': ['Bam', 'Shiraz', 'Kish'], 'friends': [{'firstName': 'Saeed', 'lastName': 'Ashrafian', 'age': 25}, {'firstName': 'Mahsa', 'lastName': 'Kzn', 'age':22}, {'firstName': 'Alireza', 'lastName': 'PourMoghadam', 'age':26}], 'id': 13}\",\n",
       " \"{'name': {'first name': 'Mahsa', 'last name': 'kzn'}, 'age': 22, 'cities': ['Tehran', 'Shiraz', 'Rasht', 'Mashhad'], 'friends': [{'firstname': 'Fazel', 'Lastname': 'basiri', 'age': 25, 'id': 13}, {'firstname': 'Niayesh', 'lastname': 'Mohammadi', 'age': 22, 'id': 0}], 'id': 14}\",\n",
       " \"{'name': {'firstname': 'Hesam', 'lastName': 'Fatemizadeh'}, 'age': 21, 'cities': ['TEHRAN', 'KISH', 'ABADAN'], 'friends': [{'firstname': 'mariam', 'lastname': 'shojaodin', 'age': 21, 'id': '100'}, {'firstname': 'abbas', 'lastname': 'ranjbar', 'age': 25, 'id': '101'}, {'firstname': 'ali', 'lastname': 'niazi', 'age': 23, 'id': 102}], 'id': 16}\",\n",
       " \"{'name': {'first name': 'Mariam', 'last name': 'Shojaedin'}, 'age': 21, 'cities': ['Kaluga', 'Moscow', 'Sochi'], 'friends': [{'firstName': 'Mahsa', 'lastName': 'Rastaghi', 'age': 22, 'ID': '0'}, {'firstName': 'Hesam', 'lastName': 'Fatemizade', 'age': 21, 'ID': '1'}, {'firstName': 'Nika', 'lastName': 'Sadidi', 'age': 22, 'ID': '2'}, {'firstName': 'Ali', 'lastName': 'Niazi', 'age': 23, 'ID': '3'}], 'ID': 17}\",\n",
       " \"{'Name': {'First name': 'Mahsa', 'Last name': 'Rastaghi'}, 'Age': 22, 'Cities': ['Kish', 'Shiraz', 'Tehran'], 'Friends': [{'first name': ' Mariam', 'Last name': 'Shojaedin', 'Age': 21, 'Id': 0}, {'first name': ' Nika', 'Last name': 'Sadidi', 'Age': 22, 'Id': 1}, {'first name': ' Hesam', 'Last name': 'Fatemi zadeh', 'Age': 21, 'Id': 2}, {'first name': 'Fatemeh', 'Last name': 'Sayyadi', 'Age': 22, 'Id': '3'}], 'Id': 18}\",\n",
       " \"{'name': 'Mobina Mohammadiuon', 'age': 21, 'id': 19, 'cities': ['Tehran', 'Boston', 'Shahrkord'], 'friends': [{'firstName': 'Elaheh', 'lastName': 'HosseinAbadi', 'age': 21, 'id': 0}, {'firstName': 'Nika', 'lastName': 'Sadidi', 'age': 22, 'id': 1}, {'firstName': 'Azin', 'lastName': 'Esfandiari', 'age': 25, 'id': 2}]}\",\n",
       " \"{'name': {'firstName': 'parsa', 'lastName': 'khaki'}, 'age': 19, 'cities': ['tehran', 'boston', 'mehran'], 'friends': [{'firstName': 'shayan', 'lastname': 'shahvari', 'age': 35, 'id': 0}, {'firstName': 'kiavash', 'lastName': 'abasnejad', 'age': 21, 'id': 1}, {'firstName': 'behrad', 'lastName': 'biniaz', 'age': 30, 'id': 2}], 'id': 2}\",\n",
       " \"{'name': {'firstName': 'Zahra', 'lastName': 'Akhlaghipoor'}, 'age': 22, 'cities': ['Kish'], 'friends': [{'firstName': 'Tima', 'LastName': 'Kalhori', 'age': 19, 'id': 0}, {'firstName': 'Nikki', 'LastName': 'Khayyat', 'age': 21, 'id': 1}], 'id': 4}\",\n",
       " \"{'firstName': 'Tima', 'lastName': 'Kalhori', 'age': 19, 'cities': ['Tehran', 'Boston', 'Shahrekord'], 'friends': [{'firstName': 'philip', 'lastName': 'fry', 'age': 35, 'id': 0}, {'firstName': 'zahra', 'lastName': 'akhlaghipoor', 'age': 22, 'id': 12}, {'firstName': 'leili', 'lastname': 'shabani', 'age': 27, 'id': 32}], 'id': 5}\",\n",
       " \"{'name': {'firstname': 'Nikki', 'lastname': 'Khayyat'}, 'age': 23, 'cities': ['Tehran', 'Boston', 'Shahrekord'], 'friends': [{'firstname': 'Charles', 'lastname': 'Lec', 'age': 27, 'ID': 0}, {'firstname': 'Franco', 'lastname': 'Colapinto', 'age': 21, 'ID': 0}, {'firstname': 'Lewis', 'lastname': 'Hamilton', 'age': 40, 'ID': 0}], 'Id': 6}\",\n",
       " \"{'name': {'firstname': 'Saba', 'surname': 'Sarlak'}, 'age': 20, 'cities': ['kl', 'iis', 'maha'], 'lastCity': ['kl'], 'friends': [{'firstname': 'elnaz', 'lastname': 'ahmad', 'age': 22, 'id': 0}, {'firstname': 'asal', 'lastname': 'sabaghzade', 'age': 26, 'id': 2}, {'firstname': 'setia', 'lastname': 'dehghan', 'id': 'bestfriend', 'age': 25}], 'id': 7}\",\n",
       " \"{'name': {'first name': 'Mohammad', 'last name': 'Mohammad Khaninezhad'}, 'age': 20, 'cities': ['Tehran', 'Boston', 'Shahrekord'], 'friends': [{'first name': 'Shahrad', 'last name': 'Shahraki', 'age': 21, 'id': 0}, {'first name': 'Hossein', 'last name': 'Dehghan', 'age': 22, 'id': 1}, {'first name': 'Erfan', 'last name': 'Kasef', 'age': 23, 'id': 2}], 'id': 8}\",\n",
       " \"{'name': {'first name': 'shahrad', 'last name': 'shahraki'}, 'age': 22, 'cities': ['birjand', 'khoosf', 'tabas'], 'friends': [{'first name': 'alireza', 'last name': 'balali', 'age': 7, 'id': 2}, {'first name': 'shahrokh', 'last name': 'shahmohammadi', 'age': 40, 'id': 7}, {'first name': 'saba', 'last name': 'samaani', 'age': 34, 'id': 5}], 'id': 9}\"]"
      ]
     },
     "execution_count": 111,
     "metadata": {},
     "output_type": "execute_result"
    }
   ],
   "source": [
    "Classmates_Profile = []\n",
    "\n",
    "for i in List_of_files:\n",
    "    f = open('Classmates/'+ i)\n",
    "    temp_profile = f.read()\n",
    "    Classmates_Profile.append(temp_profile)\n",
    "    f.close()\n",
    "Classmates_Profile"
   ]
  },
  {
   "cell_type": "markdown",
   "id": "9853666a",
   "metadata": {},
   "source": [
    "#  $\\color{purple}{\\text{Session 14}}$"
   ]
  },
  {
   "cell_type": "markdown",
   "id": "e42ec126",
   "metadata": {},
   "source": [
    "## Json : Format zakhire sazi etelaat"
   ]
  },
  {
   "cell_type": "code",
   "execution_count": 112,
   "id": "c454c7b3",
   "metadata": {},
   "outputs": [
    {
     "ename": "JSONDecodeError",
     "evalue": "Expecting value: line 1 column 1 (char 0)",
     "output_type": "error",
     "traceback": [
      "\u001b[1;31m---------------------------------------------------------------------------\u001b[0m",
      "\u001b[1;31mJSONDecodeError\u001b[0m                           Traceback (most recent call last)",
      "Cell \u001b[1;32mIn[112], line 3\u001b[0m\n\u001b[0;32m      1\u001b[0m \u001b[38;5;28;01mimport\u001b[39;00m \u001b[38;5;21;01mjson\u001b[39;00m\n\u001b[1;32m----> 3\u001b[0m data \u001b[38;5;241m=\u001b[39m json\u001b[38;5;241m.\u001b[39mloads(\u001b[38;5;124m\"\u001b[39m\u001b[38;5;124mtemp_profile\u001b[39m\u001b[38;5;124m\"\u001b[39m)\n",
      "File \u001b[1;32m~\\anaconda3\\Lib\\json\\__init__.py:346\u001b[0m, in \u001b[0;36mloads\u001b[1;34m(s, cls, object_hook, parse_float, parse_int, parse_constant, object_pairs_hook, **kw)\u001b[0m\n\u001b[0;32m    341\u001b[0m     s \u001b[38;5;241m=\u001b[39m s\u001b[38;5;241m.\u001b[39mdecode(detect_encoding(s), \u001b[38;5;124m'\u001b[39m\u001b[38;5;124msurrogatepass\u001b[39m\u001b[38;5;124m'\u001b[39m)\n\u001b[0;32m    343\u001b[0m \u001b[38;5;28;01mif\u001b[39;00m (\u001b[38;5;28mcls\u001b[39m \u001b[38;5;129;01mis\u001b[39;00m \u001b[38;5;28;01mNone\u001b[39;00m \u001b[38;5;129;01mand\u001b[39;00m object_hook \u001b[38;5;129;01mis\u001b[39;00m \u001b[38;5;28;01mNone\u001b[39;00m \u001b[38;5;129;01mand\u001b[39;00m\n\u001b[0;32m    344\u001b[0m         parse_int \u001b[38;5;129;01mis\u001b[39;00m \u001b[38;5;28;01mNone\u001b[39;00m \u001b[38;5;129;01mand\u001b[39;00m parse_float \u001b[38;5;129;01mis\u001b[39;00m \u001b[38;5;28;01mNone\u001b[39;00m \u001b[38;5;129;01mand\u001b[39;00m\n\u001b[0;32m    345\u001b[0m         parse_constant \u001b[38;5;129;01mis\u001b[39;00m \u001b[38;5;28;01mNone\u001b[39;00m \u001b[38;5;129;01mand\u001b[39;00m object_pairs_hook \u001b[38;5;129;01mis\u001b[39;00m \u001b[38;5;28;01mNone\u001b[39;00m \u001b[38;5;129;01mand\u001b[39;00m \u001b[38;5;129;01mnot\u001b[39;00m kw):\n\u001b[1;32m--> 346\u001b[0m     \u001b[38;5;28;01mreturn\u001b[39;00m _default_decoder\u001b[38;5;241m.\u001b[39mdecode(s)\n\u001b[0;32m    347\u001b[0m \u001b[38;5;28;01mif\u001b[39;00m \u001b[38;5;28mcls\u001b[39m \u001b[38;5;129;01mis\u001b[39;00m \u001b[38;5;28;01mNone\u001b[39;00m:\n\u001b[0;32m    348\u001b[0m     \u001b[38;5;28mcls\u001b[39m \u001b[38;5;241m=\u001b[39m JSONDecoder\n",
      "File \u001b[1;32m~\\anaconda3\\Lib\\json\\decoder.py:337\u001b[0m, in \u001b[0;36mJSONDecoder.decode\u001b[1;34m(self, s, _w)\u001b[0m\n\u001b[0;32m    332\u001b[0m \u001b[38;5;28;01mdef\u001b[39;00m \u001b[38;5;21mdecode\u001b[39m(\u001b[38;5;28mself\u001b[39m, s, _w\u001b[38;5;241m=\u001b[39mWHITESPACE\u001b[38;5;241m.\u001b[39mmatch):\n\u001b[0;32m    333\u001b[0m \u001b[38;5;250m    \u001b[39m\u001b[38;5;124;03m\"\"\"Return the Python representation of ``s`` (a ``str`` instance\u001b[39;00m\n\u001b[0;32m    334\u001b[0m \u001b[38;5;124;03m    containing a JSON document).\u001b[39;00m\n\u001b[0;32m    335\u001b[0m \n\u001b[0;32m    336\u001b[0m \u001b[38;5;124;03m    \"\"\"\u001b[39;00m\n\u001b[1;32m--> 337\u001b[0m     obj, end \u001b[38;5;241m=\u001b[39m \u001b[38;5;28mself\u001b[39m\u001b[38;5;241m.\u001b[39mraw_decode(s, idx\u001b[38;5;241m=\u001b[39m_w(s, \u001b[38;5;241m0\u001b[39m)\u001b[38;5;241m.\u001b[39mend())\n\u001b[0;32m    338\u001b[0m     end \u001b[38;5;241m=\u001b[39m _w(s, end)\u001b[38;5;241m.\u001b[39mend()\n\u001b[0;32m    339\u001b[0m     \u001b[38;5;28;01mif\u001b[39;00m end \u001b[38;5;241m!=\u001b[39m \u001b[38;5;28mlen\u001b[39m(s):\n",
      "File \u001b[1;32m~\\anaconda3\\Lib\\json\\decoder.py:355\u001b[0m, in \u001b[0;36mJSONDecoder.raw_decode\u001b[1;34m(self, s, idx)\u001b[0m\n\u001b[0;32m    353\u001b[0m     obj, end \u001b[38;5;241m=\u001b[39m \u001b[38;5;28mself\u001b[39m\u001b[38;5;241m.\u001b[39mscan_once(s, idx)\n\u001b[0;32m    354\u001b[0m \u001b[38;5;28;01mexcept\u001b[39;00m \u001b[38;5;167;01mStopIteration\u001b[39;00m \u001b[38;5;28;01mas\u001b[39;00m err:\n\u001b[1;32m--> 355\u001b[0m     \u001b[38;5;28;01mraise\u001b[39;00m JSONDecodeError(\u001b[38;5;124m\"\u001b[39m\u001b[38;5;124mExpecting value\u001b[39m\u001b[38;5;124m\"\u001b[39m, s, err\u001b[38;5;241m.\u001b[39mvalue) \u001b[38;5;28;01mfrom\u001b[39;00m \u001b[38;5;28;01mNone\u001b[39;00m\n\u001b[0;32m    356\u001b[0m \u001b[38;5;28;01mreturn\u001b[39;00m obj, end\n",
      "\u001b[1;31mJSONDecodeError\u001b[0m: Expecting value: line 1 column 1 (char 0)"
     ]
    }
   ],
   "source": [
    "import json\n",
    "\n",
    "data = json.loads(\"temp_profile\")"
   ]
  },
  {
   "cell_type": "code",
   "execution_count": 113,
   "id": "b41234c9",
   "metadata": {},
   "outputs": [
    {
     "name": "stdout",
     "output_type": "stream",
     "text": [
      "{'first name': 'shahrad', 'last name': 'shahraki'}\n"
     ]
    }
   ],
   "source": [
    "double_q_profile = json.loads(temp_profile.replace(\"'\",\"\\\"\"))\n",
    "print(double_q_profile[\"name\"])"
   ]
  },
  {
   "cell_type": "code",
   "execution_count": 114,
   "id": "c4f9abca",
   "metadata": {
    "scrolled": true
   },
   "outputs": [
    {
     "data": {
      "text/plain": [
       "[{'name': {'first_name': 'Shayan', 'last_name': 'Shahvari'},\n",
       "  'age': 20,\n",
       "  'cities': ['Tehran', 'Moscow', 'Kish'],\n",
       "  'friends': [{'first_name': 'Parsa',\n",
       "    'last_name': 'khaki',\n",
       "    'age': 30,\n",
       "    'id': 0},\n",
       "   {'first_name': 'Kiavash', 'last_name': 'abbasnejad', 'age': 37, 'id': 1},\n",
       "   {'first_name': 'Kourosh', 'last_name': 'ikani', 'age': 20}],\n",
       "  'id': 1},\n",
       " {'name': {'firstName': 'amir_ali', 'lastName': 'mohammadi'},\n",
       "  'age': 22,\n",
       "  'id': 10,\n",
       "  'cities': ['Tehran', 'kish', 'kabul'],\n",
       "  'friends': [{'firstName': 'kamran', 'lastName': 'Fry', 'age': 80, 'id': 0},\n",
       "   {'firstName': 'aligoodarz', 'lastName': 'baboli', 'age': 4, 'id': 1},\n",
       "   {'firstName': 'parham', 'lastName': 'Wong', 'age': 30, 'id': 2}]},\n",
       " {'name': {'first_name': 'Parsa', 'last_name': 'Mollaei'},\n",
       "  'age': 22,\n",
       "  'my_id': 11,\n",
       "  'cities': ['tehran', 'esfehan', 'kerman'],\n",
       "  'friends': [{'first_name': 'ali',\n",
       "    'last_name': 'Barkhodari',\n",
       "    'age': 22,\n",
       "    'id': '2'},\n",
       "   {'first_name': 'AmirHossein',\n",
       "    'last_name': 'yousefzade',\n",
       "    'age': 22,\n",
       "    'id': 2},\n",
       "   {'first_name': 'Parnian', 'last_name': 'Mollaei', 'age': 13, 'id': 3}]},\n",
       " {'id': 12,\n",
       "  'name': 'Sina',\n",
       "  'age': 21,\n",
       "  'email': 'sina.sherkat@example.com',\n",
       "  'location': 'Kish'},\n",
       " {'name': {'firstName': 'Fazel', 'lastName': 'Basiri'},\n",
       "  'age': 25,\n",
       "  'cities': ['Bam', 'Shiraz', 'Kish'],\n",
       "  'friends': [{'firstName': 'Saeed', 'lastName': 'Ashrafian', 'age': 25},\n",
       "   {'firstName': 'Mahsa', 'lastName': 'Kzn', 'age': 22},\n",
       "   {'firstName': 'Alireza', 'lastName': 'PourMoghadam', 'age': 26}],\n",
       "  'id': 13},\n",
       " {'name': {'first name': 'Mahsa', 'last name': 'kzn'},\n",
       "  'age': 22,\n",
       "  'cities': ['Tehran', 'Shiraz', 'Rasht', 'Mashhad'],\n",
       "  'friends': [{'firstname': 'Fazel',\n",
       "    'Lastname': 'basiri',\n",
       "    'age': 25,\n",
       "    'id': 13},\n",
       "   {'firstname': 'Niayesh', 'lastname': 'Mohammadi', 'age': 22, 'id': 0}],\n",
       "  'id': 14},\n",
       " {'name': {'firstname': 'Hesam', 'lastName': 'Fatemizadeh'},\n",
       "  'age': 21,\n",
       "  'cities': ['TEHRAN', 'KISH', 'ABADAN'],\n",
       "  'friends': [{'firstname': 'mariam',\n",
       "    'lastname': 'shojaodin',\n",
       "    'age': 21,\n",
       "    'id': '100'},\n",
       "   {'firstname': 'abbas', 'lastname': 'ranjbar', 'age': 25, 'id': '101'},\n",
       "   {'firstname': 'ali', 'lastname': 'niazi', 'age': 23, 'id': 102}],\n",
       "  'id': 16},\n",
       " {'name': {'first name': 'Mariam', 'last name': 'Shojaedin'},\n",
       "  'age': 21,\n",
       "  'cities': ['Kaluga', 'Moscow', 'Sochi'],\n",
       "  'friends': [{'firstName': 'Mahsa',\n",
       "    'lastName': 'Rastaghi',\n",
       "    'age': 22,\n",
       "    'ID': '0'},\n",
       "   {'firstName': 'Hesam', 'lastName': 'Fatemizade', 'age': 21, 'ID': '1'},\n",
       "   {'firstName': 'Nika', 'lastName': 'Sadidi', 'age': 22, 'ID': '2'},\n",
       "   {'firstName': 'Ali', 'lastName': 'Niazi', 'age': 23, 'ID': '3'}],\n",
       "  'ID': 17},\n",
       " {'Name': {'First name': 'Mahsa', 'Last name': 'Rastaghi'},\n",
       "  'Age': 22,\n",
       "  'Cities': ['Kish', 'Shiraz', 'Tehran'],\n",
       "  'Friends': [{'first name': ' Mariam',\n",
       "    'Last name': 'Shojaedin',\n",
       "    'Age': 21,\n",
       "    'Id': 0},\n",
       "   {'first name': ' Nika', 'Last name': 'Sadidi', 'Age': 22, 'Id': 1},\n",
       "   {'first name': ' Hesam', 'Last name': 'Fatemi zadeh', 'Age': 21, 'Id': 2},\n",
       "   {'first name': 'Fatemeh', 'Last name': 'Sayyadi', 'Age': 22, 'Id': '3'}],\n",
       "  'Id': 18},\n",
       " {'name': 'Mobina Mohammadiuon',\n",
       "  'age': 21,\n",
       "  'id': 19,\n",
       "  'cities': ['Tehran', 'Boston', 'Shahrkord'],\n",
       "  'friends': [{'firstName': 'Elaheh',\n",
       "    'lastName': 'HosseinAbadi',\n",
       "    'age': 21,\n",
       "    'id': 0},\n",
       "   {'firstName': 'Nika', 'lastName': 'Sadidi', 'age': 22, 'id': 1},\n",
       "   {'firstName': 'Azin', 'lastName': 'Esfandiari', 'age': 25, 'id': 2}]},\n",
       " {'name': {'firstName': 'parsa', 'lastName': 'khaki'},\n",
       "  'age': 19,\n",
       "  'cities': ['tehran', 'boston', 'mehran'],\n",
       "  'friends': [{'firstName': 'shayan',\n",
       "    'lastname': 'shahvari',\n",
       "    'age': 35,\n",
       "    'id': 0},\n",
       "   {'firstName': 'kiavash', 'lastName': 'abasnejad', 'age': 21, 'id': 1},\n",
       "   {'firstName': 'behrad', 'lastName': 'biniaz', 'age': 30, 'id': 2}],\n",
       "  'id': 2},\n",
       " {'name': {'firstName': 'Zahra', 'lastName': 'Akhlaghipoor'},\n",
       "  'age': 22,\n",
       "  'cities': ['Kish'],\n",
       "  'friends': [{'firstName': 'Tima', 'LastName': 'Kalhori', 'age': 19, 'id': 0},\n",
       "   {'firstName': 'Nikki', 'LastName': 'Khayyat', 'age': 21, 'id': 1}],\n",
       "  'id': 4},\n",
       " {'firstName': 'Tima',\n",
       "  'lastName': 'Kalhori',\n",
       "  'age': 19,\n",
       "  'cities': ['Tehran', 'Boston', 'Shahrekord'],\n",
       "  'friends': [{'firstName': 'philip', 'lastName': 'fry', 'age': 35, 'id': 0},\n",
       "   {'firstName': 'zahra', 'lastName': 'akhlaghipoor', 'age': 22, 'id': 12},\n",
       "   {'firstName': 'leili', 'lastname': 'shabani', 'age': 27, 'id': 32}],\n",
       "  'id': 5},\n",
       " {'name': {'firstname': 'Nikki', 'lastname': 'Khayyat'},\n",
       "  'age': 23,\n",
       "  'cities': ['Tehran', 'Boston', 'Shahrekord'],\n",
       "  'friends': [{'firstname': 'Charles', 'lastname': 'Lec', 'age': 27, 'ID': 0},\n",
       "   {'firstname': 'Franco', 'lastname': 'Colapinto', 'age': 21, 'ID': 0},\n",
       "   {'firstname': 'Lewis', 'lastname': 'Hamilton', 'age': 40, 'ID': 0}],\n",
       "  'Id': 6},\n",
       " {'name': {'firstname': 'Saba', 'surname': 'Sarlak'},\n",
       "  'age': 20,\n",
       "  'cities': ['kl', 'iis', 'maha'],\n",
       "  'lastCity': ['kl'],\n",
       "  'friends': [{'firstname': 'elnaz', 'lastname': 'ahmad', 'age': 22, 'id': 0},\n",
       "   {'firstname': 'asal', 'lastname': 'sabaghzade', 'age': 26, 'id': 2},\n",
       "   {'firstname': 'setia',\n",
       "    'lastname': 'dehghan',\n",
       "    'id': 'bestfriend',\n",
       "    'age': 25}],\n",
       "  'id': 7},\n",
       " {'name': {'first name': 'Mohammad', 'last name': 'Mohammad Khaninezhad'},\n",
       "  'age': 20,\n",
       "  'cities': ['Tehran', 'Boston', 'Shahrekord'],\n",
       "  'friends': [{'first name': 'Shahrad',\n",
       "    'last name': 'Shahraki',\n",
       "    'age': 21,\n",
       "    'id': 0},\n",
       "   {'first name': 'Hossein', 'last name': 'Dehghan', 'age': 22, 'id': 1},\n",
       "   {'first name': 'Erfan', 'last name': 'Kasef', 'age': 23, 'id': 2}],\n",
       "  'id': 8},\n",
       " {'name': {'first name': 'shahrad', 'last name': 'shahraki'},\n",
       "  'age': 22,\n",
       "  'cities': ['birjand', 'khoosf', 'tabas'],\n",
       "  'friends': [{'first name': 'alireza',\n",
       "    'last name': 'balali',\n",
       "    'age': 7,\n",
       "    'id': 2},\n",
       "   {'first name': 'shahrokh',\n",
       "    'last name': 'shahmohammadi',\n",
       "    'age': 40,\n",
       "    'id': 7},\n",
       "   {'first name': 'saba', 'last name': 'samaani', 'age': 34, 'id': 5}],\n",
       "  'id': 9}]"
      ]
     },
     "execution_count": 114,
     "metadata": {},
     "output_type": "execute_result"
    }
   ],
   "source": [
    "import os\n",
    "ROOT_DIR = os.path.abspath(os.curdir)\n",
    "\n",
    "List_of_files = os.listdir(ROOT_DIR+'/Classmates')\n",
    "\n",
    "\n",
    "Classmates_Profile = []\n",
    "\n",
    "for i in List_of_files:\n",
    "    f = open('Classmates/'+ i)\n",
    "    temp_profile = f.read()\n",
    "    \n",
    "    converted_profile = json.loads(temp_profile.replace(\"'\", \"\\\"\"))\n",
    "    \n",
    "    Classmates_Profile.append(converted_profile)\n",
    "    \n",
    "    f.close()\n",
    "Classmates_Profile"
   ]
  },
  {
   "cell_type": "markdown",
   "id": "246df312",
   "metadata": {},
   "source": [
    "#  $\\color{purple}{\\text{Session 15}}$"
   ]
  },
  {
   "cell_type": "code",
   "execution_count": 115,
   "id": "73976fc8",
   "metadata": {},
   "outputs": [
    {
     "name": "stdout",
     "output_type": "stream",
     "text": [
      "20\n",
      "22\n",
      "22\n",
      "21\n",
      "25\n",
      "22\n",
      "21\n",
      "21\n"
     ]
    },
    {
     "ename": "KeyError",
     "evalue": "'age'",
     "output_type": "error",
     "traceback": [
      "\u001b[1;31m---------------------------------------------------------------------------\u001b[0m",
      "\u001b[1;31mKeyError\u001b[0m                                  Traceback (most recent call last)",
      "Cell \u001b[1;32mIn[115], line 2\u001b[0m\n\u001b[0;32m      1\u001b[0m \u001b[38;5;28;01mfor\u001b[39;00m i \u001b[38;5;129;01min\u001b[39;00m \u001b[38;5;28mrange\u001b[39m (\u001b[38;5;28mlen\u001b[39m(Classmates_Profile)):\n\u001b[1;32m----> 2\u001b[0m     \u001b[38;5;28mprint\u001b[39m(Classmates_Profile[i][\u001b[38;5;124m'\u001b[39m\u001b[38;5;124mage\u001b[39m\u001b[38;5;124m'\u001b[39m])\n",
      "\u001b[1;31mKeyError\u001b[0m: 'age'"
     ]
    }
   ],
   "source": [
    "for i in range (len(Classmates_Profile)):\n",
    "    print(Classmates_Profile[i]['age'])"
   ]
  },
  {
   "cell_type": "code",
   "execution_count": 116,
   "id": "446488c8",
   "metadata": {},
   "outputs": [
    {
     "name": "stdout",
     "output_type": "stream",
     "text": [
      "20\n",
      "22\n",
      "22\n",
      "21\n",
      "25\n",
      "22\n",
      "21\n",
      "21\n",
      "8th has error\n",
      "21\n",
      "19\n",
      "22\n",
      "19\n",
      "23\n",
      "20\n",
      "20\n",
      "22\n"
     ]
    }
   ],
   "source": [
    "for i in range (len(Classmates_Profile)):\n",
    "    try:\n",
    "        print(Classmates_Profile[i]['age'])\n",
    "    except:\n",
    "        print(str(i)+\"th has error\")\n",
    "    "
   ]
  },
  {
   "cell_type": "markdown",
   "id": "b6a4c785",
   "metadata": {},
   "source": [
    "# $\\color{red}{\\text{Q6.}}$ Average age of classmates using jason library"
   ]
  },
  {
   "cell_type": "code",
   "execution_count": 118,
   "id": "d4e1ed55",
   "metadata": {
    "scrolled": true
   },
   "outputs": [
    {
     "name": "stdout",
     "output_type": "stream",
     "text": [
      "8th has error\n",
      "mean\n",
      "20.0\n"
     ]
    }
   ],
   "source": [
    "sum_all = 0\n",
    "for i in range (len(Classmates_Profile)):\n",
    "    try:\n",
    "        sum_all += Classmates_Profile[i]['age']\n",
    "    except:\n",
    "        print(str(i)+\"th has error\")\n",
    "print(\"mean\")\n",
    "print(sum_all/len(Classmates_Profile))"
   ]
  },
  {
   "cell_type": "markdown",
   "id": "4f385d91",
   "metadata": {},
   "source": [
    "#  $\\color{purple}{\\text{Session 16 and 17}}$"
   ]
  },
  {
   "cell_type": "markdown",
   "id": "d203164c",
   "metadata": {},
   "source": [
    "## CSV Format"
   ]
  },
  {
   "cell_type": "code",
   "execution_count": null,
   "id": "10651560",
   "metadata": {},
   "outputs": [],
   "source": [
    "import pandas as pd\n",
    "\n",
    "df = pd.read_csv('title.ratings.tsv',sep = '\\t')\n",
    "display(df)"
   ]
  },
  {
   "cell_type": "code",
   "execution_count": null,
   "id": "69b3221e",
   "metadata": {},
   "outputs": [],
   "source": [
    "import pandas as pd\n",
    "df1 = pd.read_csv('imdb_top_1000.csv',sep = ',')\n",
    "display(df1)"
   ]
  },
  {
   "cell_type": "code",
   "execution_count": null,
   "id": "56eaad90",
   "metadata": {},
   "outputs": [],
   "source": [
    "max_values = df.apply(max)\n",
    "\n",
    "print(max_values)\n",
    "print(end = '\\n')\n",
    "print('maximum average rating value is:' , max_values[1])"
   ]
  },
  {
   "cell_type": "code",
   "execution_count": null,
   "id": "c543d7a1",
   "metadata": {},
   "outputs": [],
   "source": []
  },
  {
   "cell_type": "code",
   "execution_count": null,
   "id": "f3162968",
   "metadata": {},
   "outputs": [],
   "source": []
  }
 ],
 "metadata": {
  "kernelspec": {
   "display_name": "Python 3 (ipykernel)",
   "language": "python",
   "name": "python3"
  },
  "language_info": {
   "codemirror_mode": {
    "name": "ipython",
    "version": 3
   },
   "file_extension": ".py",
   "mimetype": "text/x-python",
   "name": "python",
   "nbconvert_exporter": "python",
   "pygments_lexer": "ipython3",
   "version": "3.11.5"
  }
 },
 "nbformat": 4,
 "nbformat_minor": 5
}
